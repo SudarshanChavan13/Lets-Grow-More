{
  "cells": [
    {
      "cell_type": "markdown",
      "source": [
        "# **Aim - Developing A Neural Network That Can Read Handwriting**"
      ],
      "metadata": {
        "id": "0XLdYGH0dyaV"
      }
    },
    {
      "cell_type": "markdown",
      "source": [
        "# **Neural Network That Can Read Handwriting**"
      ],
      "metadata": {
        "id": "83sZwUEJdypH"
      }
    },
    {
      "cell_type": "code",
      "execution_count": 2,
      "metadata": {
        "id": "llANihobcxCb"
      },
      "outputs": [],
      "source": [
        "import numpy as np\n",
        "import matplotlib.pyplot as plt"
      ]
    },
    {
      "cell_type": "code",
      "execution_count": 3,
      "metadata": {
        "id": "6Ws6ohRTcxCd"
      },
      "outputs": [],
      "source": [
        "from keras.datasets import mnist"
      ]
    },
    {
      "cell_type": "code",
      "source": [
        "from google.colab import drive\n",
        "drive.mount(\"/gdrive\")"
      ],
      "metadata": {
        "id": "4xLReQRzdVlk",
        "colab": {
          "base_uri": "https://localhost:8080/"
        },
        "outputId": "32389360-4bbf-4d1f-981f-94c72777fabd"
      },
      "execution_count": 4,
      "outputs": [
        {
          "output_type": "stream",
          "name": "stdout",
          "text": [
            "Mounted at /gdrive\n"
          ]
        }
      ]
    },
    {
      "cell_type": "code",
      "source": [
        "%cd \"/gdrive/My Drive/Practice/Grow_More\""
      ],
      "metadata": {
        "id": "UTsC6dSAdWio",
        "colab": {
          "base_uri": "https://localhost:8080/"
        },
        "outputId": "357601c6-f2c9-4864-b801-b6388fd2398b"
      },
      "execution_count": 5,
      "outputs": [
        {
          "output_type": "stream",
          "name": "stdout",
          "text": [
            "/gdrive/My Drive/Practice/Grow_More\n"
          ]
        }
      ]
    },
    {
      "cell_type": "code",
      "execution_count": 6,
      "metadata": {
        "id": "w3irXHR4cxCd",
        "outputId": "1ac2d021-dce9-43d0-cc62-2832bc46be7e",
        "colab": {
          "base_uri": "https://localhost:8080/"
        }
      },
      "outputs": [
        {
          "output_type": "stream",
          "name": "stdout",
          "text": [
            "Downloading data from https://storage.googleapis.com/tensorflow/tf-keras-datasets/mnist.npz\n",
            "11493376/11490434 [==============================] - 0s 0us/step\n",
            "11501568/11490434 [==============================] - 0s 0us/step\n",
            "(60000, 28, 28) (60000,)\n",
            "(10000, 28, 28) (10000,)\n"
          ]
        }
      ],
      "source": [
        "(X_train,y_train),(X_test,y_test)=mnist.load_data()\n",
        "\n",
        "print(X_train.shape,y_train.shape)\n",
        "print(X_test.shape,y_test.shape)"
      ]
    },
    {
      "cell_type": "code",
      "execution_count": 7,
      "metadata": {
        "id": "-qzJ-qdecxCe",
        "outputId": "4736da9d-f219-4fdc-d136-e6d61aa1151c",
        "colab": {
          "base_uri": "https://localhost:8080/"
        }
      },
      "outputs": [
        {
          "output_type": "execute_result",
          "data": {
            "text/plain": [
              "array([0, 1, 2, 3, 4, 5, 6, 7, 8, 9], dtype=uint8)"
            ]
          },
          "metadata": {},
          "execution_count": 7
        }
      ],
      "source": [
        "np.unique(y_train)"
      ]
    },
    {
      "cell_type": "code",
      "execution_count": 8,
      "metadata": {
        "id": "xcoh7VwrcxCf"
      },
      "outputs": [],
      "source": [
        "from keras.utils import np_utils \n",
        "\n",
        "Y_train=np_utils.to_categorical(y_train)      # 1-hot encoding\n",
        "Y_test=np_utils.to_categorical(y_test) "
      ]
    },
    {
      "cell_type": "code",
      "execution_count": 9,
      "metadata": {
        "id": "vcAouIbxcxCg",
        "outputId": "cce0114f-d8d7-49c4-d4de-013a4e5acb4c",
        "colab": {
          "base_uri": "https://localhost:8080/"
        }
      },
      "outputs": [
        {
          "output_type": "stream",
          "name": "stdout",
          "text": [
            "(60000, 10)\n",
            "(10000, 10)\n"
          ]
        }
      ],
      "source": [
        "print(Y_train.shape)\n",
        "print(Y_test.shape)"
      ]
    },
    {
      "cell_type": "code",
      "execution_count": 10,
      "metadata": {
        "id": "LZhzQwbvcxCg",
        "outputId": "8aedd601-801c-44f4-93a5-8d9986d57719",
        "colab": {
          "base_uri": "https://localhost:8080/",
          "height": 265
        }
      },
      "outputs": [
        {
          "output_type": "display_data",
          "data": {
            "text/plain": [
              "<Figure size 432x288 with 1 Axes>"
            ],
            "image/png": "[encoded data removed]"
          },
          "metadata": {
            "needs_background": "light"
          }
        }
      ],
      "source": [
        "plt.imshow(X_train[0], cmap='gray')\n",
        "plt.show()"
      ]
    },
    {
      "cell_type": "markdown",
      "metadata": {
        "id": "tKP3wrPIcxCg"
      },
      "source": [
        "Here.. we are working with black and white image..so channel ie dept is 1.... so reshape this to dimention 28,28,1 to denote as black and white image<br>\n",
        "if it is colored image channel will be 3... R G B... here dimenstion will be 28 28 3\n"
      ]
    },
    {
      "cell_type": "code",
      "execution_count": 11,
      "metadata": {
        "id": "T_lAG2B6cxCi",
        "outputId": "a62bc999-d29b-4f32-9c3d-0c2176de004e",
        "colab": {
          "base_uri": "https://localhost:8080/"
        }
      },
      "outputs": [
        {
          "output_type": "stream",
          "name": "stdout",
          "text": [
            "(60000, 28, 28, 1)\n",
            "(10000, 28, 28, 1)\n"
          ]
        }
      ],
      "source": [
        "x_train=X_train.reshape(-1,28,28,1)\n",
        "x_test=X_test.reshape(-1,28,28,1)\n",
        "\n",
        "print(x_train.shape)\n",
        "print(x_test.shape)"
      ]
    },
    {
      "cell_type": "code",
      "execution_count": 12,
      "metadata": {
        "id": "w78m_CkDcxCi",
        "outputId": "457eac9e-7a14-4357-9919-785ebaf8d3c5",
        "colab": {
          "base_uri": "https://localhost:8080/"
        }
      },
      "outputs": [
        {
          "output_type": "stream",
          "name": "stdout",
          "text": [
            "(3600, 28, 28, 1) (3600, 10)\n",
            "(900, 28, 28, 1) (900, 10)\n"
          ]
        }
      ],
      "source": [
        "x_train=x_train[:3600]\n",
        "x_test=x_test[:900]\n",
        "\n",
        "Y_train=Y_train[:3600]\n",
        "Y_test=Y_test[:900]\n",
        "\n",
        "print(x_train.shape,Y_train.shape)\n",
        "print(x_test.shape,Y_test.shape)"
      ]
    },
    {
      "cell_type": "code",
      "execution_count": 13,
      "metadata": {
        "id": "ZZWbI83McxCj"
      },
      "outputs": [],
      "source": [
        "from keras.layers import Dense, Activation, Flatten, Conv2D, MaxPooling2D, Dropout       \n",
        "#Dense layer are fully connected layers where each nueron receives input from all neurons in previous layers\n",
        "#Activation function applied on dense layer to activate non linear function\n",
        "#Flatten is used to flatten matrix into an 1d array\n",
        "#conv2D-To apply Convolutional layer\n",
        "#MaxPool2D- to reduce size of image if no of weights increase too much\n",
        "#Dropout-Used for reguralization of data\n",
        "from keras.models import Sequential\n",
        "#Sequential is simple layer where previous layer is fed into next layer |->|->|->|....."
      ]
    },
    {
      "cell_type": "code",
      "execution_count": 14,
      "metadata": {
        "id": "kzPFGxRncxCj",
        "outputId": "1e9478c0-88c9-459e-c5db-649b03e7473f",
        "colab": {
          "base_uri": "https://localhost:8080/"
        }
      },
      "outputs": [
        {
          "output_type": "stream",
          "name": "stdout",
          "text": [
            "Model: \"sequential\"\n",
            "_________________________________________________________________\n",
            " Layer (type)                Output Shape              Param #   \n",
            "=================================================================\n",
            " conv2d (Conv2D)             (None, 26, 26, 32)        320       \n",
            "                                                                 \n",
            " activation (Activation)     (None, 26, 26, 32)        0         \n",
            "                                                                 \n",
            " conv2d_1 (Conv2D)           (None, 24, 24, 64)        18496     \n",
            "                                                                 \n",
            " activation_1 (Activation)   (None, 24, 24, 64)        0         \n",
            "                                                                 \n",
            " max_pooling2d (MaxPooling2D  (None, 12, 12, 64)       0         \n",
            " )                                                               \n",
            "                                                                 \n",
            " conv2d_2 (Conv2D)           (None, 10, 10, 16)        9232      \n",
            "                                                                 \n",
            " activation_2 (Activation)   (None, 10, 10, 16)        0         \n",
            "                                                                 \n",
            " flatten (Flatten)           (None, 1600)              0         \n",
            "                                                                 \n",
            " dropout (Dropout)           (None, 1600)              0         \n",
            "                                                                 \n",
            " dense (Dense)               (None, 10)                16010     \n",
            "                                                                 \n",
            " activation_3 (Activation)   (None, 10)                0         \n",
            "                                                                 \n",
            "=================================================================\n",
            "Total params: 44,058\n",
            "Trainable params: 44,058\n",
            "Non-trainable params: 0\n",
            "_________________________________________________________________\n"
          ]
        }
      ],
      "source": [
        "model=Sequential()\n",
        "\n",
        "#Dimentions- (28,28,1)\n",
        "model.add(Conv2D(32, (3, 3),input_shape=(28,28,1)))   #32 filters, each filter 3x3\n",
        "model.add(Activation('relu'))\n",
        "#After conv layer- (26,26,32)\n",
        "\n",
        "model.add(Conv2D(64, (3, 3)) )  #64 filters, each filter 3x3\n",
        "model.add(Activation('relu'))\n",
        "#After 2nd conv layer- (24,24,64)\n",
        "\n",
        "model.add(MaxPooling2D(pool_size=(2,2)))\n",
        "#reduces dimensions of image- (12,12,64)\n",
        "#4 pixelels merged into 1, channels remains the same\n",
        "\n",
        "model.add(Conv2D(16, (3, 3)) )  #16 filters, each filter 3x3\n",
        "model.add(Activation('relu'))\n",
        "#After 3nd conv layer- (10,10,16)\n",
        "\n",
        "model.add(Flatten())   #After flattening.. total features will be 28*28=784\n",
        "# (1600, )\n",
        "\n",
        "model.add(Dropout(0.25))  #25% of random weights will be reduced to zero\n",
        "#prevents over fitting\n",
        "\n",
        "# model.add(Dense(100))\n",
        "# model.add(Activation('relu'))\n",
        "                                 #--> hidden layers optional\n",
        "# model.add(Dense(100))         \n",
        "# model.add(Activation('relu'))\n",
        "\n",
        "model.add(Dense(10))\n",
        "model.add(Activation('softmax'))\n",
        "\n",
        "model.summary()"
      ]
    },
    {
      "cell_type": "markdown",
      "metadata": {
        "id": "apQXdBeLcxCk"
      },
      "source": [
        "1st conv layer- 3x3=9 weights+1 intercept term, and 32 filters..so 10*32= 320 params  <br>\n",
        "2nd conv layer- (3x3=9 weights)*32channels for each filter=288*64 filters+64intercepts=18496  <br>\n",
        "3rd conv layer- same calc as 2nd  <br>\n",
        "Dense layer- 1600 features+1 intercept*10 neurons=16010"
      ]
    },
    {
      "cell_type": "code",
      "execution_count": 15,
      "metadata": {
        "id": "8r2NzCwvcxCl"
      },
      "outputs": [],
      "source": [
        "model.compile(optimizer='adam',\n",
        "             loss='categorical_crossentropy',\n",
        "             metrics=['accuracy'])"
      ]
    },
    {
      "cell_type": "code",
      "execution_count": 16,
      "metadata": {
        "id": "A8gYFtB-cxCl",
        "outputId": "b9697f67-c237-4750-d2f2-0265cfbb6be6",
        "colab": {
          "base_uri": "https://localhost:8080/"
        }
      },
      "outputs": [
        {
          "output_type": "stream",
          "name": "stdout",
          "text": [
            "Epoch 1/12\n",
            "225/225 [==============================] - 13s 54ms/step - loss: 1.1672 - accuracy: 0.6808 - val_loss: 0.3453 - val_accuracy: 0.8922\n",
            "Epoch 2/12\n",
            "225/225 [==============================] - 16s 69ms/step - loss: 0.3277 - accuracy: 0.9036 - val_loss: 0.1993 - val_accuracy: 0.9367\n",
            "Epoch 3/12\n",
            "225/225 [==============================] - 16s 70ms/step - loss: 0.1726 - accuracy: 0.9494 - val_loss: 0.1528 - val_accuracy: 0.9500\n",
            "Epoch 4/12\n",
            "225/225 [==============================] - 20s 90ms/step - loss: 0.1249 - accuracy: 0.9581 - val_loss: 0.1746 - val_accuracy: 0.9367\n",
            "Epoch 5/12\n",
            "225/225 [==============================] - 17s 75ms/step - loss: 0.0924 - accuracy: 0.9692 - val_loss: 0.1491 - val_accuracy: 0.9500\n",
            "Epoch 6/12\n",
            "225/225 [==============================] - 12s 56ms/step - loss: 0.1005 - accuracy: 0.9692 - val_loss: 0.1594 - val_accuracy: 0.9556\n",
            "Epoch 7/12\n",
            "225/225 [==============================] - 10s 46ms/step - loss: 0.0739 - accuracy: 0.9789 - val_loss: 0.1227 - val_accuracy: 0.9589\n",
            "Epoch 8/12\n",
            "225/225 [==============================] - 12s 54ms/step - loss: 0.0473 - accuracy: 0.9858 - val_loss: 0.1571 - val_accuracy: 0.9578\n",
            "Epoch 9/12\n",
            "225/225 [==============================] - 10s 46ms/step - loss: 0.0445 - accuracy: 0.9847 - val_loss: 0.1592 - val_accuracy: 0.9589\n",
            "Epoch 10/12\n",
            "225/225 [==============================] - 10s 46ms/step - loss: 0.0522 - accuracy: 0.9844 - val_loss: 0.1519 - val_accuracy: 0.9544\n",
            "Epoch 11/12\n",
            "225/225 [==============================] - 14s 63ms/step - loss: 0.0716 - accuracy: 0.9758 - val_loss: 0.1465 - val_accuracy: 0.9567\n",
            "Epoch 12/12\n",
            "225/225 [==============================] - 18s 80ms/step - loss: 0.0530 - accuracy: 0.9833 - val_loss: 0.2040 - val_accuracy: 0.9433\n"
          ]
        },
        {
          "output_type": "execute_result",
          "data": {
            "text/plain": [
              "<keras.callbacks.History at 0x7f2d0d82b750>"
            ]
          },
          "metadata": {},
          "execution_count": 16
        }
      ],
      "source": [
        "model.fit(x_train,Y_train, \n",
        "         batch_size=16,    #batch_size-how many training exaples to use before updating weights\n",
        "         #nb_epoch=20,\n",
        "         epochs=12,\n",
        "         verbose=1,      #verbose- determines how detailed the output will be\n",
        "         validation_data=(x_test,Y_test))"
      ]
    },
    {
      "cell_type": "code",
      "execution_count": 18,
      "metadata": {
        "id": "LPQknF_fcxCl",
        "colab": {
          "base_uri": "https://localhost:8080/"
        },
        "outputId": "c2af46da-f923-4a94-c2ee-b6c9f1896c25"
      },
      "outputs": [
        {
          "output_type": "stream",
          "name": "stdout",
          "text": [
            "Accuracy:94.33333277702332\n"
          ]
        }
      ],
      "source": [
        "loss,accuracy = model.evaluate(x_test,Y_test,verbose=0)\n",
        "print(f'Accuracy:{accuracy*100}')"
      ]
    },
    {
      "cell_type": "code",
      "source": [
        "image= x_train[5]\n",
        "## lets display the image which we want to predict\n",
        "plt.imshow(np.squeeze(image),cmap=\"gray\")\n",
        "plt.show()"
      ],
      "metadata": {
        "colab": {
          "base_uri": "https://localhost:8080/",
          "height": 265
        },
        "id": "vVXRfsfCWp8J",
        "outputId": "e5266669-d758-476e-8731-6a8e4c863d78"
      },
      "execution_count": 35,
      "outputs": [
        {
          "output_type": "display_data",
          "data": {
            "text/plain": [
              "<Figure size 432x288 with 1 Axes>"
            ],
            "image/png": "[encoded data removed]"
          },
          "metadata": {
            "needs_background": "light"
          }
        }
      ]
    },
    {
      "cell_type": "code",
      "source": [
        "from numpy import argmax"
      ],
      "metadata": {
        "id": "P8zFIPzWbAAM"
      },
      "execution_count": 22,
      "outputs": []
    },
    {
      "cell_type": "code",
      "source": [
        "image = image.reshape(1,image.shape[0],image.shape[1],image.shape[2])\n",
        "p= model.predict([image])\n",
        "print(\"predicted:{}\".format(argmax(p)))"
      ],
      "metadata": {
        "colab": {
          "base_uri": "https://localhost:8080/"
        },
        "id": "7jDBh18RWp6B",
        "outputId": "209b6fb6-6a7f-498f-e5e7-28a8090e1f6d"
      },
      "execution_count": 44,
      "outputs": [
        {
          "output_type": "stream",
          "name": "stdout",
          "text": [
            "predicted:2\n"
          ]
        }
      ]
    },
    {
      "cell_type": "code",
      "source": [
        "image= x_train[8]\n",
        "## lets display the image which we want to predict\n",
        "plt.imshow(np.squeeze(image),cmap=\"gray\")\n",
        "plt.show()"
      ],
      "metadata": {
        "colab": {
          "base_uri": "https://localhost:8080/",
          "height": 265
        },
        "id": "1AOBIryJc5bj",
        "outputId": "2a5f0f16-aea2-4307-aea4-7abc76611b30"
      },
      "execution_count": 45,
      "outputs": [
        {
          "output_type": "display_data",
          "data": {
            "text/plain": [
              "<Figure size 432x288 with 1 Axes>"
            ],
            "image/png": "[encoded data removed]"
          },
          "metadata": {
            "needs_background": "light"
          }
        }
      ]
    },
    {
      "cell_type": "code",
      "source": [
        "image = image.reshape(1,image.shape[0],image.shape[1],image.shape[2])\n",
        "p= model.predict([image])\n",
        "print(\"predicted:{}\".format(argmax(p)))"
      ],
      "metadata": {
        "colab": {
          "base_uri": "https://localhost:8080/"
        },
        "id": "C-_BzlZodnUt",
        "outputId": "f0b7a2f7-2b32-4fb4-b36c-4415b7d8eebf"
      },
      "execution_count": 46,
      "outputs": [
        {
          "output_type": "stream",
          "name": "stdout",
          "text": [
            "predicted:1\n"
          ]
        }
      ]
    },
    {
      "cell_type": "code",
      "source": [
        ""
      ],
      "metadata": {
        "id": "lBu0-CsodqAZ"
      },
      "execution_count": null,
      "outputs": []
    }
  ],
  "metadata": {
    "kernelspec": {
      "display_name": "Python 3",
      "language": "python",
      "name": "python3"
    },
    "language_info": {
      "codemirror_mode": {
        "name": "ipython",
        "version": 3
      },
      "file_extension": ".py",
      "mimetype": "text/x-python",
      "name": "python",
      "nbconvert_exporter": "python",
      "pygments_lexer": "ipython3",
      "version": "3.8.3"
    },
    "colab": {
      "name": "Handwritten digits.ipynb",
      "provenance": [],
      "collapsed_sections": []
    }
  },
  "nbformat": 4,
  "nbformat_minor": 0
}