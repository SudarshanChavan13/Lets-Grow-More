{
 "cells": [
  {
   "cell_type": "code",
   "execution_count": 167,
   "metadata": {},
   "outputs": [],
   "source": [
    "import numpy as np\n",
    "import pandas as pd\n",
    "import seaborn as sns\n",
    "import matplotlib.pyplot as plt"
   ]
  },
  {
   "cell_type": "code",
   "execution_count": 168,
   "metadata": {},
   "outputs": [],
   "source": [
    "df=pd.read_csv('train.csv')"
   ]
  },
  {
   "cell_type": "code",
   "execution_count": 169,
   "metadata": {
    "scrolled": true
   },
   "outputs": [
    {
     "data": {
      "text/html": [
       "<div>\n",
       "<style scoped>\n",
       "    .dataframe tbody tr th:only-of-type {\n",
       "        vertical-align: middle;\n",
       "    }\n",
       "\n",
       "    .dataframe tbody tr th {\n",
       "        vertical-align: top;\n",
       "    }\n",
       "\n",
       "    .dataframe thead th {\n",
       "        text-align: right;\n",
       "    }\n",
       "</style>\n",
       "<table border=\"1\" class=\"dataframe\">\n",
       "  <thead>\n",
       "    <tr style=\"text-align: right;\">\n",
       "      <th></th>\n",
       "      <th>msno</th>\n",
       "      <th>song_id</th>\n",
       "      <th>source_system_tab</th>\n",
       "      <th>source_screen_name</th>\n",
       "      <th>source_type</th>\n",
       "      <th>target</th>\n",
       "    </tr>\n",
       "  </thead>\n",
       "  <tbody>\n",
       "    <tr>\n",
       "      <th>0</th>\n",
       "      <td>FGtllVqz18RPiwJj/edr2gV78zirAiY/9SmYvia+kCg=</td>\n",
       "      <td>BBzumQNXUHKdEBOB7mAJuzok+IJA1c2Ryg/yzTF6tik=</td>\n",
       "      <td>explore</td>\n",
       "      <td>Explore</td>\n",
       "      <td>online-playlist</td>\n",
       "      <td>1</td>\n",
       "    </tr>\n",
       "    <tr>\n",
       "      <th>1</th>\n",
       "      <td>Xumu+NIjS6QYVxDS4/t3SawvJ7viT9hPKXmf0RtLNx8=</td>\n",
       "      <td>bhp/MpSNoqoxOIB+/l8WPqu6jldth4DIpCm3ayXnJqM=</td>\n",
       "      <td>my library</td>\n",
       "      <td>Local playlist more</td>\n",
       "      <td>local-playlist</td>\n",
       "      <td>1</td>\n",
       "    </tr>\n",
       "    <tr>\n",
       "      <th>2</th>\n",
       "      <td>Xumu+NIjS6QYVxDS4/t3SawvJ7viT9hPKXmf0RtLNx8=</td>\n",
       "      <td>JNWfrrC7zNN7BdMpsISKa4Mw+xVJYNnxXh3/Epw7QgY=</td>\n",
       "      <td>my library</td>\n",
       "      <td>Local playlist more</td>\n",
       "      <td>local-playlist</td>\n",
       "      <td>1</td>\n",
       "    </tr>\n",
       "    <tr>\n",
       "      <th>3</th>\n",
       "      <td>Xumu+NIjS6QYVxDS4/t3SawvJ7viT9hPKXmf0RtLNx8=</td>\n",
       "      <td>2A87tzfnJTSWqD7gIZHisolhe4DMdzkbd6LzO1KHjNs=</td>\n",
       "      <td>my library</td>\n",
       "      <td>Local playlist more</td>\n",
       "      <td>local-playlist</td>\n",
       "      <td>1</td>\n",
       "    </tr>\n",
       "    <tr>\n",
       "      <th>4</th>\n",
       "      <td>FGtllVqz18RPiwJj/edr2gV78zirAiY/9SmYvia+kCg=</td>\n",
       "      <td>3qm6XTZ6MOCU11x8FIVbAGH5l5uMkT3/ZalWG1oo2Gc=</td>\n",
       "      <td>explore</td>\n",
       "      <td>Explore</td>\n",
       "      <td>online-playlist</td>\n",
       "      <td>1</td>\n",
       "    </tr>\n",
       "  </tbody>\n",
       "</table>\n",
       "</div>"
      ],
      "text/plain": [
       "                                           msno  \\\n",
       "0  FGtllVqz18RPiwJj/edr2gV78zirAiY/9SmYvia+kCg=   \n",
       "1  Xumu+NIjS6QYVxDS4/t3SawvJ7viT9hPKXmf0RtLNx8=   \n",
       "2  Xumu+NIjS6QYVxDS4/t3SawvJ7viT9hPKXmf0RtLNx8=   \n",
       "3  Xumu+NIjS6QYVxDS4/t3SawvJ7viT9hPKXmf0RtLNx8=   \n",
       "4  FGtllVqz18RPiwJj/edr2gV78zirAiY/9SmYvia+kCg=   \n",
       "\n",
       "                                        song_id source_system_tab  \\\n",
       "0  BBzumQNXUHKdEBOB7mAJuzok+IJA1c2Ryg/yzTF6tik=           explore   \n",
       "1  bhp/MpSNoqoxOIB+/l8WPqu6jldth4DIpCm3ayXnJqM=        my library   \n",
       "2  JNWfrrC7zNN7BdMpsISKa4Mw+xVJYNnxXh3/Epw7QgY=        my library   \n",
       "3  2A87tzfnJTSWqD7gIZHisolhe4DMdzkbd6LzO1KHjNs=        my library   \n",
       "4  3qm6XTZ6MOCU11x8FIVbAGH5l5uMkT3/ZalWG1oo2Gc=           explore   \n",
       "\n",
       "    source_screen_name      source_type  target  \n",
       "0              Explore  online-playlist       1  \n",
       "1  Local playlist more   local-playlist       1  \n",
       "2  Local playlist more   local-playlist       1  \n",
       "3  Local playlist more   local-playlist       1  \n",
       "4              Explore  online-playlist       1  "
      ]
     },
     "execution_count": 169,
     "metadata": {},
     "output_type": "execute_result"
    }
   ],
   "source": [
    "df.head()"
   ]
  },
  {
   "cell_type": "code",
   "execution_count": 170,
   "metadata": {},
   "outputs": [],
   "source": [
    "songs=pd.read_csv('songs.csv')"
   ]
  },
  {
   "cell_type": "code",
   "execution_count": 171,
   "metadata": {},
   "outputs": [
    {
     "data": {
      "text/html": [
       "<div>\n",
       "<style scoped>\n",
       "    .dataframe tbody tr th:only-of-type {\n",
       "        vertical-align: middle;\n",
       "    }\n",
       "\n",
       "    .dataframe tbody tr th {\n",
       "        vertical-align: top;\n",
       "    }\n",
       "\n",
       "    .dataframe thead th {\n",
       "        text-align: right;\n",
       "    }\n",
       "</style>\n",
       "<table border=\"1\" class=\"dataframe\">\n",
       "  <thead>\n",
       "    <tr style=\"text-align: right;\">\n",
       "      <th></th>\n",
       "      <th>song_id</th>\n",
       "      <th>song_length</th>\n",
       "      <th>genre_ids</th>\n",
       "      <th>artist_name</th>\n",
       "      <th>composer</th>\n",
       "      <th>lyricist</th>\n",
       "      <th>language</th>\n",
       "    </tr>\n",
       "  </thead>\n",
       "  <tbody>\n",
       "    <tr>\n",
       "      <th>0</th>\n",
       "      <td>CXoTN1eb7AI+DntdU1vbcwGRV4SCIDxZu+YD8JP8r4E=</td>\n",
       "      <td>247640</td>\n",
       "      <td>465</td>\n",
       "      <td>張信哲 (Jeff Chang)</td>\n",
       "      <td>董貞</td>\n",
       "      <td>何啟弘</td>\n",
       "      <td>3.0</td>\n",
       "    </tr>\n",
       "    <tr>\n",
       "      <th>1</th>\n",
       "      <td>o0kFgae9QtnYgRkVPqLJwa05zIhRlUjfF7O1tDw0ZDU=</td>\n",
       "      <td>197328</td>\n",
       "      <td>444</td>\n",
       "      <td>BLACKPINK</td>\n",
       "      <td>TEDDY|  FUTURE BOUNCE|  Bekuh BOOM</td>\n",
       "      <td>TEDDY</td>\n",
       "      <td>31.0</td>\n",
       "    </tr>\n",
       "    <tr>\n",
       "      <th>2</th>\n",
       "      <td>DwVvVurfpuz+XPuFvucclVQEyPqcpUkHR0ne1RQzPs0=</td>\n",
       "      <td>231781</td>\n",
       "      <td>465</td>\n",
       "      <td>SUPER JUNIOR</td>\n",
       "      <td>NaN</td>\n",
       "      <td>NaN</td>\n",
       "      <td>31.0</td>\n",
       "    </tr>\n",
       "    <tr>\n",
       "      <th>3</th>\n",
       "      <td>dKMBWoZyScdxSkihKG+Vf47nc18N9q4m58+b4e7dSSE=</td>\n",
       "      <td>273554</td>\n",
       "      <td>465</td>\n",
       "      <td>S.H.E</td>\n",
       "      <td>湯小康</td>\n",
       "      <td>徐世珍</td>\n",
       "      <td>3.0</td>\n",
       "    </tr>\n",
       "    <tr>\n",
       "      <th>4</th>\n",
       "      <td>W3bqWd3T+VeHFzHAUfARgW9AvVRaF4N5Yzm4Mr6Eo/o=</td>\n",
       "      <td>140329</td>\n",
       "      <td>726</td>\n",
       "      <td>貴族精選</td>\n",
       "      <td>Traditional</td>\n",
       "      <td>Traditional</td>\n",
       "      <td>52.0</td>\n",
       "    </tr>\n",
       "  </tbody>\n",
       "</table>\n",
       "</div>"
      ],
      "text/plain": [
       "                                        song_id  song_length genre_ids  \\\n",
       "0  CXoTN1eb7AI+DntdU1vbcwGRV4SCIDxZu+YD8JP8r4E=       247640       465   \n",
       "1  o0kFgae9QtnYgRkVPqLJwa05zIhRlUjfF7O1tDw0ZDU=       197328       444   \n",
       "2  DwVvVurfpuz+XPuFvucclVQEyPqcpUkHR0ne1RQzPs0=       231781       465   \n",
       "3  dKMBWoZyScdxSkihKG+Vf47nc18N9q4m58+b4e7dSSE=       273554       465   \n",
       "4  W3bqWd3T+VeHFzHAUfARgW9AvVRaF4N5Yzm4Mr6Eo/o=       140329       726   \n",
       "\n",
       "        artist_name                            composer     lyricist  language  \n",
       "0  張信哲 (Jeff Chang)                                  董貞          何啟弘       3.0  \n",
       "1         BLACKPINK  TEDDY|  FUTURE BOUNCE|  Bekuh BOOM        TEDDY      31.0  \n",
       "2      SUPER JUNIOR                                 NaN          NaN      31.0  \n",
       "3             S.H.E                                 湯小康          徐世珍       3.0  \n",
       "4              貴族精選                         Traditional  Traditional      52.0  "
      ]
     },
     "execution_count": 171,
     "metadata": {},
     "output_type": "execute_result"
    }
   ],
   "source": [
    "songs.head()"
   ]
  },
  {
   "cell_type": "code",
   "execution_count": 172,
   "metadata": {},
   "outputs": [],
   "source": [
    "members=pd.read_csv('members.csv')"
   ]
  },
  {
   "cell_type": "code",
   "execution_count": 173,
   "metadata": {},
   "outputs": [
    {
     "data": {
      "text/html": [
       "<div>\n",
       "<style scoped>\n",
       "    .dataframe tbody tr th:only-of-type {\n",
       "        vertical-align: middle;\n",
       "    }\n",
       "\n",
       "    .dataframe tbody tr th {\n",
       "        vertical-align: top;\n",
       "    }\n",
       "\n",
       "    .dataframe thead th {\n",
       "        text-align: right;\n",
       "    }\n",
       "</style>\n",
       "<table border=\"1\" class=\"dataframe\">\n",
       "  <thead>\n",
       "    <tr style=\"text-align: right;\">\n",
       "      <th></th>\n",
       "      <th>msno</th>\n",
       "      <th>city</th>\n",
       "      <th>bd</th>\n",
       "      <th>gender</th>\n",
       "      <th>registered_via</th>\n",
       "      <th>registration_init_time</th>\n",
       "      <th>expiration_date</th>\n",
       "    </tr>\n",
       "  </thead>\n",
       "  <tbody>\n",
       "    <tr>\n",
       "      <th>0</th>\n",
       "      <td>XQxgAYj3klVKjR3oxPPXYYFp4soD4TuBghkhMTD4oTw=</td>\n",
       "      <td>1</td>\n",
       "      <td>0</td>\n",
       "      <td>NaN</td>\n",
       "      <td>7</td>\n",
       "      <td>20110820</td>\n",
       "      <td>20170920</td>\n",
       "    </tr>\n",
       "    <tr>\n",
       "      <th>1</th>\n",
       "      <td>UizsfmJb9mV54qE9hCYyU07Va97c0lCRLEQX3ae+ztM=</td>\n",
       "      <td>1</td>\n",
       "      <td>0</td>\n",
       "      <td>NaN</td>\n",
       "      <td>7</td>\n",
       "      <td>20150628</td>\n",
       "      <td>20170622</td>\n",
       "    </tr>\n",
       "    <tr>\n",
       "      <th>2</th>\n",
       "      <td>D8nEhsIOBSoE6VthTaqDX8U6lqjJ7dLdr72mOyLya2A=</td>\n",
       "      <td>1</td>\n",
       "      <td>0</td>\n",
       "      <td>NaN</td>\n",
       "      <td>4</td>\n",
       "      <td>20160411</td>\n",
       "      <td>20170712</td>\n",
       "    </tr>\n",
       "    <tr>\n",
       "      <th>3</th>\n",
       "      <td>mCuD+tZ1hERA/o5GPqk38e041J8ZsBaLcu7nGoIIvhI=</td>\n",
       "      <td>1</td>\n",
       "      <td>0</td>\n",
       "      <td>NaN</td>\n",
       "      <td>9</td>\n",
       "      <td>20150906</td>\n",
       "      <td>20150907</td>\n",
       "    </tr>\n",
       "    <tr>\n",
       "      <th>4</th>\n",
       "      <td>q4HRBfVSssAFS9iRfxWrohxuk9kCYMKjHOEagUMV6rQ=</td>\n",
       "      <td>1</td>\n",
       "      <td>0</td>\n",
       "      <td>NaN</td>\n",
       "      <td>4</td>\n",
       "      <td>20170126</td>\n",
       "      <td>20170613</td>\n",
       "    </tr>\n",
       "  </tbody>\n",
       "</table>\n",
       "</div>"
      ],
      "text/plain": [
       "                                           msno  city  bd gender  \\\n",
       "0  XQxgAYj3klVKjR3oxPPXYYFp4soD4TuBghkhMTD4oTw=     1   0    NaN   \n",
       "1  UizsfmJb9mV54qE9hCYyU07Va97c0lCRLEQX3ae+ztM=     1   0    NaN   \n",
       "2  D8nEhsIOBSoE6VthTaqDX8U6lqjJ7dLdr72mOyLya2A=     1   0    NaN   \n",
       "3  mCuD+tZ1hERA/o5GPqk38e041J8ZsBaLcu7nGoIIvhI=     1   0    NaN   \n",
       "4  q4HRBfVSssAFS9iRfxWrohxuk9kCYMKjHOEagUMV6rQ=     1   0    NaN   \n",
       "\n",
       "   registered_via  registration_init_time  expiration_date  \n",
       "0               7                20110820         20170920  \n",
       "1               7                20150628         20170622  \n",
       "2               4                20160411         20170712  \n",
       "3               9                20150906         20150907  \n",
       "4               4                20170126         20170613  "
      ]
     },
     "execution_count": 173,
     "metadata": {},
     "output_type": "execute_result"
    }
   ],
   "source": [
    "members.head()"
   ]
  },
  {
   "cell_type": "code",
   "execution_count": 174,
   "metadata": {},
   "outputs": [],
   "source": [
    "df = pd.merge(df, songs, on='song_id', how='left')\n",
    "df = pd.merge(df, members, on='msno', how='left')"
   ]
  },
  {
   "cell_type": "code",
   "execution_count": 175,
   "metadata": {},
   "outputs": [
    {
     "data": {
      "text/html": [
       "<div>\n",
       "<style scoped>\n",
       "    .dataframe tbody tr th:only-of-type {\n",
       "        vertical-align: middle;\n",
       "    }\n",
       "\n",
       "    .dataframe tbody tr th {\n",
       "        vertical-align: top;\n",
       "    }\n",
       "\n",
       "    .dataframe thead th {\n",
       "        text-align: right;\n",
       "    }\n",
       "</style>\n",
       "<table border=\"1\" class=\"dataframe\">\n",
       "  <thead>\n",
       "    <tr style=\"text-align: right;\">\n",
       "      <th></th>\n",
       "      <th>msno</th>\n",
       "      <th>song_id</th>\n",
       "      <th>source_system_tab</th>\n",
       "      <th>source_screen_name</th>\n",
       "      <th>source_type</th>\n",
       "      <th>target</th>\n",
       "      <th>song_length</th>\n",
       "      <th>genre_ids</th>\n",
       "      <th>artist_name</th>\n",
       "      <th>composer</th>\n",
       "      <th>lyricist</th>\n",
       "      <th>language</th>\n",
       "      <th>city</th>\n",
       "      <th>bd</th>\n",
       "      <th>gender</th>\n",
       "      <th>registered_via</th>\n",
       "      <th>registration_init_time</th>\n",
       "      <th>expiration_date</th>\n",
       "    </tr>\n",
       "  </thead>\n",
       "  <tbody>\n",
       "    <tr>\n",
       "      <th>0</th>\n",
       "      <td>FGtllVqz18RPiwJj/edr2gV78zirAiY/9SmYvia+kCg=</td>\n",
       "      <td>BBzumQNXUHKdEBOB7mAJuzok+IJA1c2Ryg/yzTF6tik=</td>\n",
       "      <td>explore</td>\n",
       "      <td>Explore</td>\n",
       "      <td>online-playlist</td>\n",
       "      <td>1</td>\n",
       "      <td>206471.0</td>\n",
       "      <td>359</td>\n",
       "      <td>Bastille</td>\n",
       "      <td>Dan Smith| Mark Crew</td>\n",
       "      <td>NaN</td>\n",
       "      <td>52.0</td>\n",
       "      <td>1</td>\n",
       "      <td>0</td>\n",
       "      <td>NaN</td>\n",
       "      <td>7</td>\n",
       "      <td>20120102</td>\n",
       "      <td>20171005</td>\n",
       "    </tr>\n",
       "    <tr>\n",
       "      <th>1</th>\n",
       "      <td>Xumu+NIjS6QYVxDS4/t3SawvJ7viT9hPKXmf0RtLNx8=</td>\n",
       "      <td>bhp/MpSNoqoxOIB+/l8WPqu6jldth4DIpCm3ayXnJqM=</td>\n",
       "      <td>my library</td>\n",
       "      <td>Local playlist more</td>\n",
       "      <td>local-playlist</td>\n",
       "      <td>1</td>\n",
       "      <td>284584.0</td>\n",
       "      <td>1259</td>\n",
       "      <td>Various Artists</td>\n",
       "      <td>NaN</td>\n",
       "      <td>NaN</td>\n",
       "      <td>52.0</td>\n",
       "      <td>13</td>\n",
       "      <td>24</td>\n",
       "      <td>female</td>\n",
       "      <td>9</td>\n",
       "      <td>20110525</td>\n",
       "      <td>20170911</td>\n",
       "    </tr>\n",
       "    <tr>\n",
       "      <th>2</th>\n",
       "      <td>Xumu+NIjS6QYVxDS4/t3SawvJ7viT9hPKXmf0RtLNx8=</td>\n",
       "      <td>JNWfrrC7zNN7BdMpsISKa4Mw+xVJYNnxXh3/Epw7QgY=</td>\n",
       "      <td>my library</td>\n",
       "      <td>Local playlist more</td>\n",
       "      <td>local-playlist</td>\n",
       "      <td>1</td>\n",
       "      <td>225396.0</td>\n",
       "      <td>1259</td>\n",
       "      <td>Nas</td>\n",
       "      <td>N. Jones、W. Adams、J. Lordan、D. Ingle</td>\n",
       "      <td>NaN</td>\n",
       "      <td>52.0</td>\n",
       "      <td>13</td>\n",
       "      <td>24</td>\n",
       "      <td>female</td>\n",
       "      <td>9</td>\n",
       "      <td>20110525</td>\n",
       "      <td>20170911</td>\n",
       "    </tr>\n",
       "    <tr>\n",
       "      <th>3</th>\n",
       "      <td>Xumu+NIjS6QYVxDS4/t3SawvJ7viT9hPKXmf0RtLNx8=</td>\n",
       "      <td>2A87tzfnJTSWqD7gIZHisolhe4DMdzkbd6LzO1KHjNs=</td>\n",
       "      <td>my library</td>\n",
       "      <td>Local playlist more</td>\n",
       "      <td>local-playlist</td>\n",
       "      <td>1</td>\n",
       "      <td>255512.0</td>\n",
       "      <td>1019</td>\n",
       "      <td>Soundway</td>\n",
       "      <td>Kwadwo Donkoh</td>\n",
       "      <td>NaN</td>\n",
       "      <td>-1.0</td>\n",
       "      <td>13</td>\n",
       "      <td>24</td>\n",
       "      <td>female</td>\n",
       "      <td>9</td>\n",
       "      <td>20110525</td>\n",
       "      <td>20170911</td>\n",
       "    </tr>\n",
       "    <tr>\n",
       "      <th>4</th>\n",
       "      <td>FGtllVqz18RPiwJj/edr2gV78zirAiY/9SmYvia+kCg=</td>\n",
       "      <td>3qm6XTZ6MOCU11x8FIVbAGH5l5uMkT3/ZalWG1oo2Gc=</td>\n",
       "      <td>explore</td>\n",
       "      <td>Explore</td>\n",
       "      <td>online-playlist</td>\n",
       "      <td>1</td>\n",
       "      <td>187802.0</td>\n",
       "      <td>1011</td>\n",
       "      <td>Brett Young</td>\n",
       "      <td>Brett Young| Kelly Archer| Justin Ebach</td>\n",
       "      <td>NaN</td>\n",
       "      <td>52.0</td>\n",
       "      <td>1</td>\n",
       "      <td>0</td>\n",
       "      <td>NaN</td>\n",
       "      <td>7</td>\n",
       "      <td>20120102</td>\n",
       "      <td>20171005</td>\n",
       "    </tr>\n",
       "  </tbody>\n",
       "</table>\n",
       "</div>"
      ],
      "text/plain": [
       "                                           msno  \\\n",
       "0  FGtllVqz18RPiwJj/edr2gV78zirAiY/9SmYvia+kCg=   \n",
       "1  Xumu+NIjS6QYVxDS4/t3SawvJ7viT9hPKXmf0RtLNx8=   \n",
       "2  Xumu+NIjS6QYVxDS4/t3SawvJ7viT9hPKXmf0RtLNx8=   \n",
       "3  Xumu+NIjS6QYVxDS4/t3SawvJ7viT9hPKXmf0RtLNx8=   \n",
       "4  FGtllVqz18RPiwJj/edr2gV78zirAiY/9SmYvia+kCg=   \n",
       "\n",
       "                                        song_id source_system_tab  \\\n",
       "0  BBzumQNXUHKdEBOB7mAJuzok+IJA1c2Ryg/yzTF6tik=           explore   \n",
       "1  bhp/MpSNoqoxOIB+/l8WPqu6jldth4DIpCm3ayXnJqM=        my library   \n",
       "2  JNWfrrC7zNN7BdMpsISKa4Mw+xVJYNnxXh3/Epw7QgY=        my library   \n",
       "3  2A87tzfnJTSWqD7gIZHisolhe4DMdzkbd6LzO1KHjNs=        my library   \n",
       "4  3qm6XTZ6MOCU11x8FIVbAGH5l5uMkT3/ZalWG1oo2Gc=           explore   \n",
       "\n",
       "    source_screen_name      source_type  target  song_length genre_ids  \\\n",
       "0              Explore  online-playlist       1     206471.0       359   \n",
       "1  Local playlist more   local-playlist       1     284584.0      1259   \n",
       "2  Local playlist more   local-playlist       1     225396.0      1259   \n",
       "3  Local playlist more   local-playlist       1     255512.0      1019   \n",
       "4              Explore  online-playlist       1     187802.0      1011   \n",
       "\n",
       "       artist_name                                 composer lyricist  \\\n",
       "0         Bastille                     Dan Smith| Mark Crew      NaN   \n",
       "1  Various Artists                                      NaN      NaN   \n",
       "2              Nas     N. Jones、W. Adams、J. Lordan、D. Ingle      NaN   \n",
       "3         Soundway                            Kwadwo Donkoh      NaN   \n",
       "4      Brett Young  Brett Young| Kelly Archer| Justin Ebach      NaN   \n",
       "\n",
       "   language  city  bd  gender  registered_via  registration_init_time  \\\n",
       "0      52.0     1   0     NaN               7                20120102   \n",
       "1      52.0    13  24  female               9                20110525   \n",
       "2      52.0    13  24  female               9                20110525   \n",
       "3      -1.0    13  24  female               9                20110525   \n",
       "4      52.0     1   0     NaN               7                20120102   \n",
       "\n",
       "   expiration_date  \n",
       "0         20171005  \n",
       "1         20170911  \n",
       "2         20170911  \n",
       "3         20170911  \n",
       "4         20171005  "
      ]
     },
     "execution_count": 175,
     "metadata": {},
     "output_type": "execute_result"
    }
   ],
   "source": [
    "df.head()"
   ]
  },
  {
   "cell_type": "code",
   "execution_count": 176,
   "metadata": {},
   "outputs": [
    {
     "name": "stdout",
     "output_type": "stream",
     "text": [
      "<class 'pandas.core.frame.DataFrame'>\n",
      "Int64Index: 7377418 entries, 0 to 7377417\n",
      "Data columns (total 18 columns):\n",
      " #   Column                  Dtype  \n",
      "---  ------                  -----  \n",
      " 0   msno                    object \n",
      " 1   song_id                 object \n",
      " 2   source_system_tab       object \n",
      " 3   source_screen_name      object \n",
      " 4   source_type             object \n",
      " 5   target                  int64  \n",
      " 6   song_length             float64\n",
      " 7   genre_ids               object \n",
      " 8   artist_name             object \n",
      " 9   composer                object \n",
      " 10  lyricist                object \n",
      " 11  language                float64\n",
      " 12  city                    int64  \n",
      " 13  bd                      int64  \n",
      " 14  gender                  object \n",
      " 15  registered_via          int64  \n",
      " 16  registration_init_time  int64  \n",
      " 17  expiration_date         int64  \n",
      "dtypes: float64(2), int64(6), object(10)\n",
      "memory usage: 1.0+ GB\n"
     ]
    }
   ],
   "source": [
    "df.info()"
   ]
  },
  {
   "cell_type": "code",
   "execution_count": 177,
   "metadata": {},
   "outputs": [
    {
     "data": {
      "text/plain": [
       "(7377418, 18)"
      ]
     },
     "execution_count": 177,
     "metadata": {},
     "output_type": "execute_result"
    }
   ],
   "source": [
    "df.shape"
   ]
  },
  {
   "cell_type": "markdown",
   "metadata": {},
   "source": [
    "## Handelling Null Values"
   ]
  },
  {
   "cell_type": "code",
   "execution_count": 178,
   "metadata": {},
   "outputs": [],
   "source": [
    "# Delete rows containing either 75% or more than 75% NaN Values\n",
    "perc = 1.0 # Here N is 75\n",
    "min_count =  int(((100-perc)/100)*df.shape[1] + 1)\n",
    "mod_df = df.dropna( axis=0, \n",
    "                    thresh=min_count)"
   ]
  },
  {
   "cell_type": "code",
   "execution_count": 179,
   "metadata": {},
   "outputs": [
    {
     "data": {
      "text/plain": [
       "(2344896, 18)"
      ]
     },
     "execution_count": 179,
     "metadata": {},
     "output_type": "execute_result"
    }
   ],
   "source": [
    "mod_df.shape"
   ]
  },
  {
   "cell_type": "code",
   "execution_count": 180,
   "metadata": {},
   "outputs": [],
   "source": [
    "df=mod_df"
   ]
  },
  {
   "cell_type": "code",
   "execution_count": 181,
   "metadata": {},
   "outputs": [
    {
     "data": {
      "text/plain": [
       "msno                      0\n",
       "song_id                   0\n",
       "source_system_tab         0\n",
       "source_screen_name        0\n",
       "source_type               0\n",
       "target                    0\n",
       "song_length               0\n",
       "genre_ids                 0\n",
       "artist_name               0\n",
       "composer                  0\n",
       "lyricist                  0\n",
       "language                  0\n",
       "city                      0\n",
       "bd                        0\n",
       "gender                    0\n",
       "registered_via            0\n",
       "registration_init_time    0\n",
       "expiration_date           0\n",
       "dtype: int64"
      ]
     },
     "execution_count": 181,
     "metadata": {},
     "output_type": "execute_result"
    }
   ],
   "source": [
    "df.isna().sum()"
   ]
  },
  {
   "cell_type": "code",
   "execution_count": 182,
   "metadata": {},
   "outputs": [
    {
     "data": {
      "text/plain": [
       "Series([], dtype: float64)"
      ]
     },
     "execution_count": 182,
     "metadata": {},
     "output_type": "execute_result"
    }
   ],
   "source": [
    "#percentage of missing values\n",
    "df[df.columns[df.isnull().any()]].isnull().sum()/len(df)*100"
   ]
  },
  {
   "cell_type": "code",
   "execution_count": 183,
   "metadata": {},
   "outputs": [],
   "source": [
    "df['lyricist']=df['lyricist'].fillna('unknown_lyricist')"
   ]
  },
  {
   "cell_type": "code",
   "execution_count": 184,
   "metadata": {},
   "outputs": [],
   "source": [
    "df['gender']=df['gender'].fillna('unknown_gender')"
   ]
  },
  {
   "cell_type": "code",
   "execution_count": 185,
   "metadata": {},
   "outputs": [],
   "source": [
    "df['composer']=df['composer'].fillna('unknown_composer')"
   ]
  },
  {
   "cell_type": "code",
   "execution_count": 186,
   "metadata": {},
   "outputs": [],
   "source": [
    "df['artist_name']=df['artist_name'].fillna('unknown_artist')"
   ]
  },
  {
   "cell_type": "code",
   "execution_count": 187,
   "metadata": {},
   "outputs": [],
   "source": [
    "df['genre_ids']=df['genre_ids'].fillna('unknown_genere')"
   ]
  },
  {
   "cell_type": "code",
   "execution_count": 188,
   "metadata": {},
   "outputs": [],
   "source": [
    "df['source_system_tab']=df['source_system_tab'].fillna('unknown_system_tab')"
   ]
  },
  {
   "cell_type": "code",
   "execution_count": 189,
   "metadata": {},
   "outputs": [],
   "source": [
    "df['source_screen_name']=df['source_screen_name'].fillna('unknown_screen_name')"
   ]
  },
  {
   "cell_type": "code",
   "execution_count": 190,
   "metadata": {},
   "outputs": [],
   "source": [
    "df['source_type']=df['source_type'].fillna('unknown_source_type')"
   ]
  },
  {
   "cell_type": "code",
   "execution_count": 191,
   "metadata": {},
   "outputs": [],
   "source": [
    "df['song_length']=df['song_length'].fillna(df['song_length'].median())"
   ]
  },
  {
   "cell_type": "code",
   "execution_count": 192,
   "metadata": {},
   "outputs": [],
   "source": [
    "df['language']=df['language'].fillna(df['song_length'].mode()[0])"
   ]
  },
  {
   "cell_type": "code",
   "execution_count": 193,
   "metadata": {},
   "outputs": [
    {
     "data": {
      "text/plain": [
       "msno                      0.0\n",
       "song_id                   0.0\n",
       "source_system_tab         0.0\n",
       "source_screen_name        0.0\n",
       "source_type               0.0\n",
       "target                    0.0\n",
       "song_length               0.0\n",
       "genre_ids                 0.0\n",
       "artist_name               0.0\n",
       "composer                  0.0\n",
       "lyricist                  0.0\n",
       "language                  0.0\n",
       "city                      0.0\n",
       "bd                        0.0\n",
       "gender                    0.0\n",
       "registered_via            0.0\n",
       "registration_init_time    0.0\n",
       "expiration_date           0.0\n",
       "dtype: float64"
      ]
     },
     "execution_count": 193,
     "metadata": {},
     "output_type": "execute_result"
    }
   ],
   "source": [
    "df.isnull().sum()/len(df)*100"
   ]
  },
  {
   "cell_type": "code",
   "execution_count": 194,
   "metadata": {},
   "outputs": [
    {
     "data": {
      "text/html": [
       "<div>\n",
       "<style scoped>\n",
       "    .dataframe tbody tr th:only-of-type {\n",
       "        vertical-align: middle;\n",
       "    }\n",
       "\n",
       "    .dataframe tbody tr th {\n",
       "        vertical-align: top;\n",
       "    }\n",
       "\n",
       "    .dataframe thead th {\n",
       "        text-align: right;\n",
       "    }\n",
       "</style>\n",
       "<table border=\"1\" class=\"dataframe\">\n",
       "  <thead>\n",
       "    <tr style=\"text-align: right;\">\n",
       "      <th></th>\n",
       "      <th>msno</th>\n",
       "      <th>song_id</th>\n",
       "      <th>source_system_tab</th>\n",
       "      <th>source_screen_name</th>\n",
       "      <th>source_type</th>\n",
       "      <th>target</th>\n",
       "      <th>song_length</th>\n",
       "      <th>genre_ids</th>\n",
       "      <th>artist_name</th>\n",
       "      <th>composer</th>\n",
       "      <th>lyricist</th>\n",
       "      <th>language</th>\n",
       "      <th>city</th>\n",
       "      <th>bd</th>\n",
       "      <th>gender</th>\n",
       "      <th>registered_via</th>\n",
       "      <th>registration_init_time</th>\n",
       "      <th>expiration_date</th>\n",
       "    </tr>\n",
       "  </thead>\n",
       "  <tbody>\n",
       "    <tr>\n",
       "      <th>6</th>\n",
       "      <td>Xumu+NIjS6QYVxDS4/t3SawvJ7viT9hPKXmf0RtLNx8=</td>\n",
       "      <td>VkILU0H1h3NMmk9MQrXouNudGk5n8Ls5cqRRuBxeTh4=</td>\n",
       "      <td>my library</td>\n",
       "      <td>Local playlist more</td>\n",
       "      <td>local-playlist</td>\n",
       "      <td>1</td>\n",
       "      <td>229982.0</td>\n",
       "      <td>465</td>\n",
       "      <td>BIGBANG TAEYANG</td>\n",
       "      <td>TEDDY| DEE.P| Rebecca Johnson</td>\n",
       "      <td>TEDDY| TAEYANG</td>\n",
       "      <td>31.0</td>\n",
       "      <td>13</td>\n",
       "      <td>24</td>\n",
       "      <td>female</td>\n",
       "      <td>9</td>\n",
       "      <td>20110525</td>\n",
       "      <td>20170911</td>\n",
       "    </tr>\n",
       "    <tr>\n",
       "      <th>11</th>\n",
       "      <td>uHqAtShXTRXju5GE8ri3ITsVFepPf8jUoCF7ffNOuqE=</td>\n",
       "      <td>8FGjC9W+7F8WjheGZPAwX9RH3+nWSO7DzjM6EB6naOI=</td>\n",
       "      <td>my library</td>\n",
       "      <td>Local playlist more</td>\n",
       "      <td>local-library</td>\n",
       "      <td>1</td>\n",
       "      <td>224597.0</td>\n",
       "      <td>465</td>\n",
       "      <td>嚴爵 (Yen-j)</td>\n",
       "      <td>嚴爵</td>\n",
       "      <td>嚴爵</td>\n",
       "      <td>3.0</td>\n",
       "      <td>15</td>\n",
       "      <td>26</td>\n",
       "      <td>male</td>\n",
       "      <td>9</td>\n",
       "      <td>20111107</td>\n",
       "      <td>20180304</td>\n",
       "    </tr>\n",
       "    <tr>\n",
       "      <th>19</th>\n",
       "      <td>uQQHTQJ1nVEkBfbXe0f1/J9ML5eQhsQiocCV5TvvCRI=</td>\n",
       "      <td>9yi9yLGK5Soiz1IO3iosDsx5O3hutglBHl1JbVHLjLw=</td>\n",
       "      <td>my library</td>\n",
       "      <td>Local playlist more</td>\n",
       "      <td>local-library</td>\n",
       "      <td>1</td>\n",
       "      <td>241975.0</td>\n",
       "      <td>465</td>\n",
       "      <td>孫燕姿 (Yanzi Sun)</td>\n",
       "      <td>Li Wei Song</td>\n",
       "      <td>Xiao Han</td>\n",
       "      <td>3.0</td>\n",
       "      <td>9</td>\n",
       "      <td>27</td>\n",
       "      <td>female</td>\n",
       "      <td>9</td>\n",
       "      <td>20130912</td>\n",
       "      <td>20170912</td>\n",
       "    </tr>\n",
       "    <tr>\n",
       "      <th>21</th>\n",
       "      <td>uQQHTQJ1nVEkBfbXe0f1/J9ML5eQhsQiocCV5TvvCRI=</td>\n",
       "      <td>H0pfaBjENAn1eYhCA5+rurd8AnnJF17J512SKZBfvfU=</td>\n",
       "      <td>my library</td>\n",
       "      <td>Local playlist more</td>\n",
       "      <td>local-library</td>\n",
       "      <td>1</td>\n",
       "      <td>247911.0</td>\n",
       "      <td>465</td>\n",
       "      <td>莫文蔚 (Karen Mok)</td>\n",
       "      <td>Skot Suyama</td>\n",
       "      <td>李焯雄</td>\n",
       "      <td>3.0</td>\n",
       "      <td>9</td>\n",
       "      <td>27</td>\n",
       "      <td>female</td>\n",
       "      <td>9</td>\n",
       "      <td>20130912</td>\n",
       "      <td>20170912</td>\n",
       "    </tr>\n",
       "    <tr>\n",
       "      <th>32</th>\n",
       "      <td>ULaS7iTeNVqlI45nQEFyye+QRhPy1TvABDDu8AXool0=</td>\n",
       "      <td>2bj5oqCPPzY6E0TPgwySkfj8/l/c+DVQBqnABx0qPSk=</td>\n",
       "      <td>my library</td>\n",
       "      <td>Local playlist more</td>\n",
       "      <td>local-library</td>\n",
       "      <td>1</td>\n",
       "      <td>210048.0</td>\n",
       "      <td>1259</td>\n",
       "      <td>蛋堡 (Soft Lipa)</td>\n",
       "      <td>杜振熙</td>\n",
       "      <td>杜振熙/（OT：白鴿）伍佰</td>\n",
       "      <td>3.0</td>\n",
       "      <td>13</td>\n",
       "      <td>34</td>\n",
       "      <td>male</td>\n",
       "      <td>9</td>\n",
       "      <td>20100812</td>\n",
       "      <td>20170912</td>\n",
       "    </tr>\n",
       "  </tbody>\n",
       "</table>\n",
       "</div>"
      ],
      "text/plain": [
       "                                            msno  \\\n",
       "6   Xumu+NIjS6QYVxDS4/t3SawvJ7viT9hPKXmf0RtLNx8=   \n",
       "11  uHqAtShXTRXju5GE8ri3ITsVFepPf8jUoCF7ffNOuqE=   \n",
       "19  uQQHTQJ1nVEkBfbXe0f1/J9ML5eQhsQiocCV5TvvCRI=   \n",
       "21  uQQHTQJ1nVEkBfbXe0f1/J9ML5eQhsQiocCV5TvvCRI=   \n",
       "32  ULaS7iTeNVqlI45nQEFyye+QRhPy1TvABDDu8AXool0=   \n",
       "\n",
       "                                         song_id source_system_tab  \\\n",
       "6   VkILU0H1h3NMmk9MQrXouNudGk5n8Ls5cqRRuBxeTh4=        my library   \n",
       "11  8FGjC9W+7F8WjheGZPAwX9RH3+nWSO7DzjM6EB6naOI=        my library   \n",
       "19  9yi9yLGK5Soiz1IO3iosDsx5O3hutglBHl1JbVHLjLw=        my library   \n",
       "21  H0pfaBjENAn1eYhCA5+rurd8AnnJF17J512SKZBfvfU=        my library   \n",
       "32  2bj5oqCPPzY6E0TPgwySkfj8/l/c+DVQBqnABx0qPSk=        my library   \n",
       "\n",
       "     source_screen_name     source_type  target  song_length genre_ids  \\\n",
       "6   Local playlist more  local-playlist       1     229982.0       465   \n",
       "11  Local playlist more   local-library       1     224597.0       465   \n",
       "19  Local playlist more   local-library       1     241975.0       465   \n",
       "21  Local playlist more   local-library       1     247911.0       465   \n",
       "32  Local playlist more   local-library       1     210048.0      1259   \n",
       "\n",
       "        artist_name                       composer        lyricist  language  \\\n",
       "6   BIGBANG TAEYANG  TEDDY| DEE.P| Rebecca Johnson  TEDDY| TAEYANG      31.0   \n",
       "11       嚴爵 (Yen-j)                             嚴爵              嚴爵       3.0   \n",
       "19  孫燕姿 (Yanzi Sun)                    Li Wei Song        Xiao Han       3.0   \n",
       "21  莫文蔚 (Karen Mok)                    Skot Suyama             李焯雄       3.0   \n",
       "32   蛋堡 (Soft Lipa)                            杜振熙   杜振熙/（OT：白鴿）伍佰       3.0   \n",
       "\n",
       "    city  bd  gender  registered_via  registration_init_time  expiration_date  \n",
       "6     13  24  female               9                20110525         20170911  \n",
       "11    15  26    male               9                20111107         20180304  \n",
       "19     9  27  female               9                20130912         20170912  \n",
       "21     9  27  female               9                20130912         20170912  \n",
       "32    13  34    male               9                20100812         20170912  "
      ]
     },
     "execution_count": 194,
     "metadata": {},
     "output_type": "execute_result"
    }
   ],
   "source": [
    "df.head()"
   ]
  },
  {
   "cell_type": "code",
   "execution_count": 195,
   "metadata": {},
   "outputs": [],
   "source": [
    "df=df.sample(n = 50000)"
   ]
  },
  {
   "cell_type": "code",
   "execution_count": 196,
   "metadata": {},
   "outputs": [
    {
     "data": {
      "text/plain": [
       "(50000, 18)"
      ]
     },
     "execution_count": 196,
     "metadata": {},
     "output_type": "execute_result"
    }
   ],
   "source": [
    "df.shape"
   ]
  },
  {
   "cell_type": "markdown",
   "metadata": {},
   "source": [
    "## Univariate Analysis "
   ]
  },
  {
   "cell_type": "code",
   "execution_count": 197,
   "metadata": {},
   "outputs": [
    {
     "data": {
      "text/plain": [
       "my library      26521\n",
       "discover        13916\n",
       "search           3966\n",
       "radio            2371\n",
       "listen with      2167\n",
       "explore          1007\n",
       "notification       48\n",
       "settings            4\n",
       "Name: source_system_tab, dtype: int64"
      ]
     },
     "execution_count": 197,
     "metadata": {},
     "output_type": "execute_result"
    }
   ],
   "source": [
    "df['source_system_tab'].value_counts()"
   ]
  },
  {
   "cell_type": "code",
   "execution_count": 198,
   "metadata": {},
   "outputs": [
    {
     "data": {
      "image/png": "[encoded data removed]",
      "text/plain": [
       "<Figure size 1080x360 with 1 Axes>"
      ]
     },
     "metadata": {
      "needs_background": "light"
     },
     "output_type": "display_data"
    }
   ],
   "source": [
    "plt.figure(figsize=(15,5))\n",
    "sns.countplot(df['source_system_tab'])\n",
    "plt.show()"
   ]
  },
  {
   "cell_type": "code",
   "execution_count": 199,
   "metadata": {},
   "outputs": [
    {
     "data": {
      "text/plain": [
       "Local playlist more     24643\n",
       "Online playlist more     9220\n",
       "Radio                    2398\n",
       "Album more               2385\n",
       "Others profile more      2140\n",
       "Discover Chart           1751\n",
       "Discover Feature         1729\n",
       "Search                   1699\n",
       "Artist more              1690\n",
       "My library                599\n",
       "Explore                   518\n",
       "Unknown                   426\n",
       "Discover Genre            389\n",
       "Discover New              143\n",
       "Search Home               105\n",
       "Search Trends             100\n",
       "My library_Search          64\n",
       "Self profile more           1\n",
       "Name: source_screen_name, dtype: int64"
      ]
     },
     "execution_count": 199,
     "metadata": {},
     "output_type": "execute_result"
    }
   ],
   "source": [
    "df['source_screen_name'].value_counts()"
   ]
  },
  {
   "cell_type": "code",
   "execution_count": 200,
   "metadata": {},
   "outputs": [],
   "source": [
    "df['source_screen_name'].replace({'Unknown':'unknown_screen_name','Concert':'Self profile more','Payment':'Self profile more'}, inplace =True)"
   ]
  },
  {
   "cell_type": "code",
   "execution_count": 201,
   "metadata": {},
   "outputs": [
    {
     "data": {
      "text/plain": [
       "Local playlist more     24643\n",
       "Online playlist more     9220\n",
       "Radio                    2398\n",
       "Album more               2385\n",
       "Others profile more      2140\n",
       "Discover Chart           1751\n",
       "Discover Feature         1729\n",
       "Search                   1699\n",
       "Artist more              1690\n",
       "My library                599\n",
       "Explore                   518\n",
       "unknown_screen_name       426\n",
       "Discover Genre            389\n",
       "Discover New              143\n",
       "Search Home               105\n",
       "Search Trends             100\n",
       "My library_Search          64\n",
       "Self profile more           1\n",
       "Name: source_screen_name, dtype: int64"
      ]
     },
     "execution_count": 201,
     "metadata": {},
     "output_type": "execute_result"
    }
   ],
   "source": [
    "df['source_screen_name'].value_counts()"
   ]
  },
  {
   "cell_type": "code",
   "execution_count": 202,
   "metadata": {},
   "outputs": [
    {
     "data": {
      "text/plain": [
       "local-library             16498\n",
       "online-playlist           13441\n",
       "local-playlist             8558\n",
       "album                      2673\n",
       "radio                      2422\n",
       "listen-with                2005\n",
       "top-hits-for-artist        1716\n",
       "song                       1373\n",
       "song-based-playlist        1213\n",
       "topic-article-playlist       80\n",
       "artist                       19\n",
       "my-daily-playlist             2\n",
       "Name: source_type, dtype: int64"
      ]
     },
     "execution_count": 202,
     "metadata": {},
     "output_type": "execute_result"
    }
   ],
   "source": [
    "df['source_type'].value_counts()"
   ]
  },
  {
   "cell_type": "code",
   "execution_count": 203,
   "metadata": {},
   "outputs": [],
   "source": [
    "df['source_type'].replace({'my-daily-playlist':'artist'}, inplace =True)"
   ]
  },
  {
   "cell_type": "code",
   "execution_count": 204,
   "metadata": {},
   "outputs": [
    {
     "data": {
      "text/plain": [
       "local-library             16498\n",
       "online-playlist           13441\n",
       "local-playlist             8558\n",
       "album                      2673\n",
       "radio                      2422\n",
       "listen-with                2005\n",
       "top-hits-for-artist        1716\n",
       "song                       1373\n",
       "song-based-playlist        1213\n",
       "topic-article-playlist       80\n",
       "artist                       21\n",
       "Name: source_type, dtype: int64"
      ]
     },
     "execution_count": 204,
     "metadata": {},
     "output_type": "execute_result"
    }
   ],
   "source": [
    "df['source_type'].value_counts()"
   ]
  },
  {
   "cell_type": "code",
   "execution_count": 205,
   "metadata": {},
   "outputs": [
    {
     "data": {
      "text/plain": [
       "周杰倫 (Jay Chou)                   2291\n",
       "五月天 (Mayday)                     2037\n",
       "Various Artists                  1589\n",
       "林俊傑 (JJ Lin)                     1449\n",
       "田馥甄 (Hebe)                       1286\n",
       "                                 ... \n",
       "Sean Kingston & Justin Bieber       1\n",
       "Gotō Maki (後藤真希)                    1\n",
       "Freelow                             1\n",
       "林佑威                                 1\n",
       "Flavel & Neto                       1\n",
       "Name: artist_name, Length: 2492, dtype: int64"
      ]
     },
     "execution_count": 205,
     "metadata": {},
     "output_type": "execute_result"
    }
   ],
   "source": [
    "df['artist_name'].value_counts()"
   ]
  },
  {
   "cell_type": "code",
   "execution_count": 206,
   "metadata": {},
   "outputs": [
    {
     "data": {
      "text/plain": [
       "周杰倫                                                                                                        2481\n",
       "阿信                                                                                                         1162\n",
       "林俊傑                                                                                                         964\n",
       "陳皓宇                                                                                                         657\n",
       "JJ Lin                                                                                                      646\n",
       "                                                                                                           ... \n",
       "Howard Shore                                                                                                  1\n",
       "馬克朗森|Michael Tyler|Bruno Mars|Philip Lawrence|Nick Movshon|Thomas Brenneck|Brody Brown|Homer Steinweiss       1\n",
       "SUPPER MOMENT                                                                                                 1\n",
       "水野　良樹                                                                                                         1\n",
       "YOSHIDA TADASHI                                                                                               1\n",
       "Name: composer, Length: 5891, dtype: int64"
      ]
     },
     "execution_count": 206,
     "metadata": {},
     "output_type": "execute_result"
    }
   ],
   "source": [
    "df['composer'].value_counts()"
   ]
  },
  {
   "cell_type": "code",
   "execution_count": 207,
   "metadata": {},
   "outputs": [
    {
     "data": {
      "text/plain": [
       "阿信                                                                                  1936\n",
       "方文山                                                                                 1497\n",
       "姚若龍                                                                                  737\n",
       "周杰倫                                                                                  712\n",
       "林夕                                                                                   633\n",
       "                                                                                    ... \n",
       "Justin Timberlake| Timothy Mosley| Jerome Harmon| James Fauntleroy| Shawn Carter       1\n",
       "Zion                                                                                   1\n",
       "黃振鴻                                                                                    1\n",
       "中文詞 : 李洹宇@i-One Music                                                                  1\n",
       "DJ☆GO|RINO LATINA II|HORI                                                              1\n",
       "Name: lyricist, Length: 5984, dtype: int64"
      ]
     },
     "execution_count": 207,
     "metadata": {},
     "output_type": "execute_result"
    }
   ],
   "source": [
    "df['lyricist'].value_counts()"
   ]
  },
  {
   "cell_type": "code",
   "execution_count": 208,
   "metadata": {},
   "outputs": [
    {
     "data": {
      "text/plain": [
       "13    11963\n",
       "5      7825\n",
       "4      5568\n",
       "15     5057\n",
       "22     4771\n",
       "6      2832\n",
       "14     2322\n",
       "12     1617\n",
       "1      1583\n",
       "9       933\n",
       "8       907\n",
       "18      877\n",
       "11      710\n",
       "10      702\n",
       "21      675\n",
       "3       665\n",
       "17      445\n",
       "7       304\n",
       "16       91\n",
       "20       81\n",
       "19       72\n",
       "Name: city, dtype: int64"
      ]
     },
     "execution_count": 208,
     "metadata": {},
     "output_type": "execute_result"
    }
   ],
   "source": [
    "df['city'].value_counts()"
   ]
  },
  {
   "cell_type": "code",
   "execution_count": 209,
   "metadata": {},
   "outputs": [
    {
     "data": {
      "text/plain": [
       "male      25980\n",
       "female    24020\n",
       "Name: gender, dtype: int64"
      ]
     },
     "execution_count": 209,
     "metadata": {},
     "output_type": "execute_result"
    }
   ],
   "source": [
    "df['gender'].value_counts()"
   ]
  },
  {
   "cell_type": "code",
   "execution_count": 210,
   "metadata": {},
   "outputs": [
    {
     "data": {
      "text/html": [
       "<div>\n",
       "<style scoped>\n",
       "    .dataframe tbody tr th:only-of-type {\n",
       "        vertical-align: middle;\n",
       "    }\n",
       "\n",
       "    .dataframe tbody tr th {\n",
       "        vertical-align: top;\n",
       "    }\n",
       "\n",
       "    .dataframe thead th {\n",
       "        text-align: right;\n",
       "    }\n",
       "</style>\n",
       "<table border=\"1\" class=\"dataframe\">\n",
       "  <thead>\n",
       "    <tr style=\"text-align: right;\">\n",
       "      <th></th>\n",
       "      <th>msno</th>\n",
       "      <th>song_id</th>\n",
       "      <th>source_system_tab</th>\n",
       "      <th>source_screen_name</th>\n",
       "      <th>source_type</th>\n",
       "      <th>target</th>\n",
       "      <th>song_length</th>\n",
       "      <th>genre_ids</th>\n",
       "      <th>artist_name</th>\n",
       "      <th>composer</th>\n",
       "      <th>lyricist</th>\n",
       "      <th>language</th>\n",
       "      <th>city</th>\n",
       "      <th>bd</th>\n",
       "      <th>gender</th>\n",
       "      <th>registered_via</th>\n",
       "      <th>registration_init_time</th>\n",
       "      <th>expiration_date</th>\n",
       "    </tr>\n",
       "  </thead>\n",
       "  <tbody>\n",
       "    <tr>\n",
       "      <th>1928097</th>\n",
       "      <td>BjZ+qxIhx0nS/OgUrelfGXyFXvwLsLRYQseZ730suv8=</td>\n",
       "      <td>h90KlUZE/mlkkPjhbhz3hXY1zvOhqJXuiKBoFWnTDAo=</td>\n",
       "      <td>my library</td>\n",
       "      <td>Local playlist more</td>\n",
       "      <td>local-library</td>\n",
       "      <td>1</td>\n",
       "      <td>237792.0</td>\n",
       "      <td>465</td>\n",
       "      <td>王詩安 (Diana Wang)</td>\n",
       "      <td>Skot Suyama 陶山</td>\n",
       "      <td>Skot Suyama 陶山</td>\n",
       "      <td>52.0</td>\n",
       "      <td>15</td>\n",
       "      <td>30</td>\n",
       "      <td>male</td>\n",
       "      <td>9</td>\n",
       "      <td>20111119</td>\n",
       "      <td>20171130</td>\n",
       "    </tr>\n",
       "    <tr>\n",
       "      <th>1034318</th>\n",
       "      <td>gpd5qcKQgYl+EpMfLKTVS/RVjvthxy2aBEkA2dB39VA=</td>\n",
       "      <td>kE+FVLsG03zTzYoGVDqTmVkoSKC9DjJwQr2puF6MkOI=</td>\n",
       "      <td>discover</td>\n",
       "      <td>Online playlist more</td>\n",
       "      <td>online-playlist</td>\n",
       "      <td>1</td>\n",
       "      <td>211670.0</td>\n",
       "      <td>444</td>\n",
       "      <td>BLACKPINK</td>\n",
       "      <td>TEDDY|  FUTURE BOUNCE|  Bekuh BOOM</td>\n",
       "      <td>TEDDY|  Bekuh BOOM</td>\n",
       "      <td>31.0</td>\n",
       "      <td>4</td>\n",
       "      <td>32</td>\n",
       "      <td>female</td>\n",
       "      <td>9</td>\n",
       "      <td>20161006</td>\n",
       "      <td>20171005</td>\n",
       "    </tr>\n",
       "    <tr>\n",
       "      <th>5268353</th>\n",
       "      <td>FsnD6eISCRrYBij8+Gb1USi7YFPilM2xP3uhFw/8dWY=</td>\n",
       "      <td>3gH3RVFOcGvtmvybcS4gUgjqXUKnFQfrCVaLaDzd2V4=</td>\n",
       "      <td>my library</td>\n",
       "      <td>Local playlist more</td>\n",
       "      <td>local-library</td>\n",
       "      <td>0</td>\n",
       "      <td>244192.0</td>\n",
       "      <td>465</td>\n",
       "      <td>Eir Aoi (藍井エイル)</td>\n",
       "      <td>Tomoyuki Ogawa</td>\n",
       "      <td>Eir Aoi| Tomoyuki Ogawa</td>\n",
       "      <td>17.0</td>\n",
       "      <td>4</td>\n",
       "      <td>21</td>\n",
       "      <td>male</td>\n",
       "      <td>9</td>\n",
       "      <td>20100508</td>\n",
       "      <td>20170524</td>\n",
       "    </tr>\n",
       "    <tr>\n",
       "      <th>3140276</th>\n",
       "      <td>00qmlWC3H/cjf2Ig1li5xIO0VNDRgBX0f9ilouDBEZs=</td>\n",
       "      <td>YB1aCMH80wghif+6uAy8CwNu/HdFTtEyJMl93dlBtXQ=</td>\n",
       "      <td>my library</td>\n",
       "      <td>Local playlist more</td>\n",
       "      <td>local-library</td>\n",
       "      <td>0</td>\n",
       "      <td>298198.0</td>\n",
       "      <td>2022</td>\n",
       "      <td>Aerosmith</td>\n",
       "      <td>Diane Warren</td>\n",
       "      <td>Diane Warren</td>\n",
       "      <td>52.0</td>\n",
       "      <td>14</td>\n",
       "      <td>21</td>\n",
       "      <td>male</td>\n",
       "      <td>3</td>\n",
       "      <td>20131016</td>\n",
       "      <td>20170911</td>\n",
       "    </tr>\n",
       "    <tr>\n",
       "      <th>2236366</th>\n",
       "      <td>HvvWzN0yGyMEE6k1LZICIHa+r8FLt+g8MLPG/yahi5o=</td>\n",
       "      <td>N/kQ1h1t7uPOdWYNHcQIddmS3lyK/zvIrhmHyuBf8D4=</td>\n",
       "      <td>my library</td>\n",
       "      <td>Local playlist more</td>\n",
       "      <td>local-library</td>\n",
       "      <td>1</td>\n",
       "      <td>286406.0</td>\n",
       "      <td>465</td>\n",
       "      <td>吳克群 (Kenji Wu)</td>\n",
       "      <td>吳克群</td>\n",
       "      <td>吳克群</td>\n",
       "      <td>3.0</td>\n",
       "      <td>13</td>\n",
       "      <td>46</td>\n",
       "      <td>female</td>\n",
       "      <td>9</td>\n",
       "      <td>20060122</td>\n",
       "      <td>20171002</td>\n",
       "    </tr>\n",
       "  </tbody>\n",
       "</table>\n",
       "</div>"
      ],
      "text/plain": [
       "                                                 msno  \\\n",
       "1928097  BjZ+qxIhx0nS/OgUrelfGXyFXvwLsLRYQseZ730suv8=   \n",
       "1034318  gpd5qcKQgYl+EpMfLKTVS/RVjvthxy2aBEkA2dB39VA=   \n",
       "5268353  FsnD6eISCRrYBij8+Gb1USi7YFPilM2xP3uhFw/8dWY=   \n",
       "3140276  00qmlWC3H/cjf2Ig1li5xIO0VNDRgBX0f9ilouDBEZs=   \n",
       "2236366  HvvWzN0yGyMEE6k1LZICIHa+r8FLt+g8MLPG/yahi5o=   \n",
       "\n",
       "                                              song_id source_system_tab  \\\n",
       "1928097  h90KlUZE/mlkkPjhbhz3hXY1zvOhqJXuiKBoFWnTDAo=        my library   \n",
       "1034318  kE+FVLsG03zTzYoGVDqTmVkoSKC9DjJwQr2puF6MkOI=          discover   \n",
       "5268353  3gH3RVFOcGvtmvybcS4gUgjqXUKnFQfrCVaLaDzd2V4=        my library   \n",
       "3140276  YB1aCMH80wghif+6uAy8CwNu/HdFTtEyJMl93dlBtXQ=        my library   \n",
       "2236366  N/kQ1h1t7uPOdWYNHcQIddmS3lyK/zvIrhmHyuBf8D4=        my library   \n",
       "\n",
       "           source_screen_name      source_type  target  song_length genre_ids  \\\n",
       "1928097   Local playlist more    local-library       1     237792.0       465   \n",
       "1034318  Online playlist more  online-playlist       1     211670.0       444   \n",
       "5268353   Local playlist more    local-library       0     244192.0       465   \n",
       "3140276   Local playlist more    local-library       0     298198.0      2022   \n",
       "2236366   Local playlist more    local-library       1     286406.0       465   \n",
       "\n",
       "              artist_name                            composer  \\\n",
       "1928097  王詩安 (Diana Wang)                      Skot Suyama 陶山   \n",
       "1034318         BLACKPINK  TEDDY|  FUTURE BOUNCE|  Bekuh BOOM   \n",
       "5268353   Eir Aoi (藍井エイル)                      Tomoyuki Ogawa   \n",
       "3140276         Aerosmith                        Diane Warren   \n",
       "2236366    吳克群 (Kenji Wu)                                 吳克群   \n",
       "\n",
       "                        lyricist  language  city  bd  gender  registered_via  \\\n",
       "1928097           Skot Suyama 陶山      52.0    15  30    male               9   \n",
       "1034318       TEDDY|  Bekuh BOOM      31.0     4  32  female               9   \n",
       "5268353  Eir Aoi| Tomoyuki Ogawa      17.0     4  21    male               9   \n",
       "3140276             Diane Warren      52.0    14  21    male               3   \n",
       "2236366                      吳克群       3.0    13  46  female               9   \n",
       "\n",
       "         registration_init_time  expiration_date  \n",
       "1928097                20111119         20171130  \n",
       "1034318                20161006         20171005  \n",
       "5268353                20100508         20170524  \n",
       "3140276                20131016         20170911  \n",
       "2236366                20060122         20171002  "
      ]
     },
     "execution_count": 210,
     "metadata": {},
     "output_type": "execute_result"
    }
   ],
   "source": [
    "df.head()"
   ]
  },
  {
   "cell_type": "code",
   "execution_count": 211,
   "metadata": {},
   "outputs": [],
   "source": [
    "df.registration_init_time = pd.to_datetime(df.registration_init_time, format='%Y%m%d', errors='ignore')\n",
    "df['registration_init_time_year'] = df['registration_init_time'].dt.year\n",
    "df['registration_init_time_month'] = df['registration_init_time'].dt.month\n",
    "df['registration_init_time_day'] = df['registration_init_time'].dt.day\n",
    "\n",
    "# expiration_date\n",
    "df.expiration_date = pd.to_datetime(df.expiration_date,  format='%Y%m%d', errors='ignore')\n",
    "df['expiration_date_year'] = df['expiration_date'].dt.year\n",
    "df['expiration_date_month'] = df['expiration_date'].dt.month\n",
    "df['expiration_date_day'] = df['expiration_date'].dt.day"
   ]
  },
  {
   "cell_type": "code",
   "execution_count": 212,
   "metadata": {},
   "outputs": [
    {
     "data": {
      "text/plain": [
       "(50000, 24)"
      ]
     },
     "execution_count": 212,
     "metadata": {},
     "output_type": "execute_result"
    }
   ],
   "source": [
    "df.shape"
   ]
  },
  {
   "cell_type": "code",
   "execution_count": 213,
   "metadata": {},
   "outputs": [],
   "source": [
    "df.drop('registration_init_time',inplace=True,axis=1)\n",
    "df.drop('expiration_date',inplace=True,axis=1)"
   ]
  },
  {
   "cell_type": "code",
   "execution_count": 214,
   "metadata": {},
   "outputs": [
    {
     "data": {
      "text/html": [
       "<div>\n",
       "<style scoped>\n",
       "    .dataframe tbody tr th:only-of-type {\n",
       "        vertical-align: middle;\n",
       "    }\n",
       "\n",
       "    .dataframe tbody tr th {\n",
       "        vertical-align: top;\n",
       "    }\n",
       "\n",
       "    .dataframe thead th {\n",
       "        text-align: right;\n",
       "    }\n",
       "</style>\n",
       "<table border=\"1\" class=\"dataframe\">\n",
       "  <thead>\n",
       "    <tr style=\"text-align: right;\">\n",
       "      <th></th>\n",
       "      <th>msno</th>\n",
       "      <th>song_id</th>\n",
       "      <th>source_system_tab</th>\n",
       "      <th>source_screen_name</th>\n",
       "      <th>source_type</th>\n",
       "      <th>target</th>\n",
       "      <th>song_length</th>\n",
       "      <th>genre_ids</th>\n",
       "      <th>artist_name</th>\n",
       "      <th>composer</th>\n",
       "      <th>...</th>\n",
       "      <th>city</th>\n",
       "      <th>bd</th>\n",
       "      <th>gender</th>\n",
       "      <th>registered_via</th>\n",
       "      <th>registration_init_time_year</th>\n",
       "      <th>registration_init_time_month</th>\n",
       "      <th>registration_init_time_day</th>\n",
       "      <th>expiration_date_year</th>\n",
       "      <th>expiration_date_month</th>\n",
       "      <th>expiration_date_day</th>\n",
       "    </tr>\n",
       "  </thead>\n",
       "  <tbody>\n",
       "    <tr>\n",
       "      <th>1928097</th>\n",
       "      <td>BjZ+qxIhx0nS/OgUrelfGXyFXvwLsLRYQseZ730suv8=</td>\n",
       "      <td>h90KlUZE/mlkkPjhbhz3hXY1zvOhqJXuiKBoFWnTDAo=</td>\n",
       "      <td>my library</td>\n",
       "      <td>Local playlist more</td>\n",
       "      <td>local-library</td>\n",
       "      <td>1</td>\n",
       "      <td>237792.0</td>\n",
       "      <td>465</td>\n",
       "      <td>王詩安 (Diana Wang)</td>\n",
       "      <td>Skot Suyama 陶山</td>\n",
       "      <td>...</td>\n",
       "      <td>15</td>\n",
       "      <td>30</td>\n",
       "      <td>male</td>\n",
       "      <td>9</td>\n",
       "      <td>2011</td>\n",
       "      <td>11</td>\n",
       "      <td>19</td>\n",
       "      <td>2017</td>\n",
       "      <td>11</td>\n",
       "      <td>30</td>\n",
       "    </tr>\n",
       "    <tr>\n",
       "      <th>1034318</th>\n",
       "      <td>gpd5qcKQgYl+EpMfLKTVS/RVjvthxy2aBEkA2dB39VA=</td>\n",
       "      <td>kE+FVLsG03zTzYoGVDqTmVkoSKC9DjJwQr2puF6MkOI=</td>\n",
       "      <td>discover</td>\n",
       "      <td>Online playlist more</td>\n",
       "      <td>online-playlist</td>\n",
       "      <td>1</td>\n",
       "      <td>211670.0</td>\n",
       "      <td>444</td>\n",
       "      <td>BLACKPINK</td>\n",
       "      <td>TEDDY|  FUTURE BOUNCE|  Bekuh BOOM</td>\n",
       "      <td>...</td>\n",
       "      <td>4</td>\n",
       "      <td>32</td>\n",
       "      <td>female</td>\n",
       "      <td>9</td>\n",
       "      <td>2016</td>\n",
       "      <td>10</td>\n",
       "      <td>6</td>\n",
       "      <td>2017</td>\n",
       "      <td>10</td>\n",
       "      <td>5</td>\n",
       "    </tr>\n",
       "    <tr>\n",
       "      <th>5268353</th>\n",
       "      <td>FsnD6eISCRrYBij8+Gb1USi7YFPilM2xP3uhFw/8dWY=</td>\n",
       "      <td>3gH3RVFOcGvtmvybcS4gUgjqXUKnFQfrCVaLaDzd2V4=</td>\n",
       "      <td>my library</td>\n",
       "      <td>Local playlist more</td>\n",
       "      <td>local-library</td>\n",
       "      <td>0</td>\n",
       "      <td>244192.0</td>\n",
       "      <td>465</td>\n",
       "      <td>Eir Aoi (藍井エイル)</td>\n",
       "      <td>Tomoyuki Ogawa</td>\n",
       "      <td>...</td>\n",
       "      <td>4</td>\n",
       "      <td>21</td>\n",
       "      <td>male</td>\n",
       "      <td>9</td>\n",
       "      <td>2010</td>\n",
       "      <td>5</td>\n",
       "      <td>8</td>\n",
       "      <td>2017</td>\n",
       "      <td>5</td>\n",
       "      <td>24</td>\n",
       "    </tr>\n",
       "    <tr>\n",
       "      <th>3140276</th>\n",
       "      <td>00qmlWC3H/cjf2Ig1li5xIO0VNDRgBX0f9ilouDBEZs=</td>\n",
       "      <td>YB1aCMH80wghif+6uAy8CwNu/HdFTtEyJMl93dlBtXQ=</td>\n",
       "      <td>my library</td>\n",
       "      <td>Local playlist more</td>\n",
       "      <td>local-library</td>\n",
       "      <td>0</td>\n",
       "      <td>298198.0</td>\n",
       "      <td>2022</td>\n",
       "      <td>Aerosmith</td>\n",
       "      <td>Diane Warren</td>\n",
       "      <td>...</td>\n",
       "      <td>14</td>\n",
       "      <td>21</td>\n",
       "      <td>male</td>\n",
       "      <td>3</td>\n",
       "      <td>2013</td>\n",
       "      <td>10</td>\n",
       "      <td>16</td>\n",
       "      <td>2017</td>\n",
       "      <td>9</td>\n",
       "      <td>11</td>\n",
       "    </tr>\n",
       "    <tr>\n",
       "      <th>2236366</th>\n",
       "      <td>HvvWzN0yGyMEE6k1LZICIHa+r8FLt+g8MLPG/yahi5o=</td>\n",
       "      <td>N/kQ1h1t7uPOdWYNHcQIddmS3lyK/zvIrhmHyuBf8D4=</td>\n",
       "      <td>my library</td>\n",
       "      <td>Local playlist more</td>\n",
       "      <td>local-library</td>\n",
       "      <td>1</td>\n",
       "      <td>286406.0</td>\n",
       "      <td>465</td>\n",
       "      <td>吳克群 (Kenji Wu)</td>\n",
       "      <td>吳克群</td>\n",
       "      <td>...</td>\n",
       "      <td>13</td>\n",
       "      <td>46</td>\n",
       "      <td>female</td>\n",
       "      <td>9</td>\n",
       "      <td>2006</td>\n",
       "      <td>1</td>\n",
       "      <td>22</td>\n",
       "      <td>2017</td>\n",
       "      <td>10</td>\n",
       "      <td>2</td>\n",
       "    </tr>\n",
       "  </tbody>\n",
       "</table>\n",
       "<p>5 rows × 22 columns</p>\n",
       "</div>"
      ],
      "text/plain": [
       "                                                 msno  \\\n",
       "1928097  BjZ+qxIhx0nS/OgUrelfGXyFXvwLsLRYQseZ730suv8=   \n",
       "1034318  gpd5qcKQgYl+EpMfLKTVS/RVjvthxy2aBEkA2dB39VA=   \n",
       "5268353  FsnD6eISCRrYBij8+Gb1USi7YFPilM2xP3uhFw/8dWY=   \n",
       "3140276  00qmlWC3H/cjf2Ig1li5xIO0VNDRgBX0f9ilouDBEZs=   \n",
       "2236366  HvvWzN0yGyMEE6k1LZICIHa+r8FLt+g8MLPG/yahi5o=   \n",
       "\n",
       "                                              song_id source_system_tab  \\\n",
       "1928097  h90KlUZE/mlkkPjhbhz3hXY1zvOhqJXuiKBoFWnTDAo=        my library   \n",
       "1034318  kE+FVLsG03zTzYoGVDqTmVkoSKC9DjJwQr2puF6MkOI=          discover   \n",
       "5268353  3gH3RVFOcGvtmvybcS4gUgjqXUKnFQfrCVaLaDzd2V4=        my library   \n",
       "3140276  YB1aCMH80wghif+6uAy8CwNu/HdFTtEyJMl93dlBtXQ=        my library   \n",
       "2236366  N/kQ1h1t7uPOdWYNHcQIddmS3lyK/zvIrhmHyuBf8D4=        my library   \n",
       "\n",
       "           source_screen_name      source_type  target  song_length genre_ids  \\\n",
       "1928097   Local playlist more    local-library       1     237792.0       465   \n",
       "1034318  Online playlist more  online-playlist       1     211670.0       444   \n",
       "5268353   Local playlist more    local-library       0     244192.0       465   \n",
       "3140276   Local playlist more    local-library       0     298198.0      2022   \n",
       "2236366   Local playlist more    local-library       1     286406.0       465   \n",
       "\n",
       "              artist_name                            composer  ... city  bd  \\\n",
       "1928097  王詩安 (Diana Wang)                      Skot Suyama 陶山  ...   15  30   \n",
       "1034318         BLACKPINK  TEDDY|  FUTURE BOUNCE|  Bekuh BOOM  ...    4  32   \n",
       "5268353   Eir Aoi (藍井エイル)                      Tomoyuki Ogawa  ...    4  21   \n",
       "3140276         Aerosmith                        Diane Warren  ...   14  21   \n",
       "2236366    吳克群 (Kenji Wu)                                 吳克群  ...   13  46   \n",
       "\n",
       "         gender  registered_via registration_init_time_year  \\\n",
       "1928097    male               9                        2011   \n",
       "1034318  female               9                        2016   \n",
       "5268353    male               9                        2010   \n",
       "3140276    male               3                        2013   \n",
       "2236366  female               9                        2006   \n",
       "\n",
       "         registration_init_time_month  registration_init_time_day  \\\n",
       "1928097                            11                          19   \n",
       "1034318                            10                           6   \n",
       "5268353                             5                           8   \n",
       "3140276                            10                          16   \n",
       "2236366                             1                          22   \n",
       "\n",
       "         expiration_date_year  expiration_date_month  expiration_date_day  \n",
       "1928097                  2017                     11                   30  \n",
       "1034318                  2017                     10                    5  \n",
       "5268353                  2017                      5                   24  \n",
       "3140276                  2017                      9                   11  \n",
       "2236366                  2017                     10                    2  \n",
       "\n",
       "[5 rows x 22 columns]"
      ]
     },
     "execution_count": 214,
     "metadata": {},
     "output_type": "execute_result"
    }
   ],
   "source": [
    "df.head()"
   ]
  },
  {
   "cell_type": "code",
   "execution_count": 215,
   "metadata": {},
   "outputs": [
    {
     "name": "stdout",
     "output_type": "stream",
     "text": [
      "<class 'pandas.core.frame.DataFrame'>\n",
      "Int64Index: 50000 entries, 1928097 to 2781524\n",
      "Data columns (total 22 columns):\n",
      " #   Column                        Non-Null Count  Dtype  \n",
      "---  ------                        --------------  -----  \n",
      " 0   msno                          50000 non-null  object \n",
      " 1   song_id                       50000 non-null  object \n",
      " 2   source_system_tab             50000 non-null  object \n",
      " 3   source_screen_name            50000 non-null  object \n",
      " 4   source_type                   50000 non-null  object \n",
      " 5   target                        50000 non-null  int64  \n",
      " 6   song_length                   50000 non-null  float64\n",
      " 7   genre_ids                     50000 non-null  object \n",
      " 8   artist_name                   50000 non-null  object \n",
      " 9   composer                      50000 non-null  object \n",
      " 10  lyricist                      50000 non-null  object \n",
      " 11  language                      50000 non-null  float64\n",
      " 12  city                          50000 non-null  int64  \n",
      " 13  bd                            50000 non-null  int64  \n",
      " 14  gender                        50000 non-null  object \n",
      " 15  registered_via                50000 non-null  int64  \n",
      " 16  registration_init_time_year   50000 non-null  int64  \n",
      " 17  registration_init_time_month  50000 non-null  int64  \n",
      " 18  registration_init_time_day    50000 non-null  int64  \n",
      " 19  expiration_date_year          50000 non-null  int64  \n",
      " 20  expiration_date_month         50000 non-null  int64  \n",
      " 21  expiration_date_day           50000 non-null  int64  \n",
      "dtypes: float64(2), int64(10), object(10)\n",
      "memory usage: 10.0+ MB\n"
     ]
    }
   ],
   "source": [
    "df.info()"
   ]
  },
  {
   "cell_type": "code",
   "execution_count": 216,
   "metadata": {},
   "outputs": [],
   "source": [
    "Numeric_list=df.select_dtypes(exclude='object').columns\n",
    "list_conti=['song_length','registration_init_time_year','registration_init_time_month','registration_init_time_day',\n",
    "           'expiration_date_year','expiration_date_month','expiration_date_day']"
   ]
  },
  {
   "cell_type": "code",
   "execution_count": 217,
   "metadata": {},
   "outputs": [
    {
     "data": {
      "image/png": "[encoded data removed]",
      "text/plain": [
       "<Figure size 1440x2160 with 7 Axes>"
      ]
     },
     "metadata": {
      "needs_background": "light"
     },
     "output_type": "display_data"
    }
   ],
   "source": [
    "plt.figure(figsize=(20,30))\n",
    "for i, variable in enumerate(list_conti):\n",
    "  plt.subplot(10,4,i+1)\n",
    "  plt.hist(df[variable])\n",
    "  plt.tight_layout()\n",
    "  plt.title(variable)\n",
    "plt.show()"
   ]
  },
  {
   "cell_type": "code",
   "execution_count": 218,
   "metadata": {},
   "outputs": [
    {
     "data": {
      "image/png": "[encoded data removed]",
      "text/plain": [
       "<Figure size 1440x2160 with 7 Axes>"
      ]
     },
     "metadata": {
      "needs_background": "light"
     },
     "output_type": "display_data"
    }
   ],
   "source": [
    "plt.figure(figsize=(20,30))\n",
    "for i, variable in enumerate(list_conti):\n",
    "  plt.subplot(10,4,i+1)\n",
    "  plt.boxplot(df[variable],whis=1.5)\n",
    "  plt.tight_layout()\n",
    "  plt.title(variable)\n",
    "plt.show()"
   ]
  },
  {
   "cell_type": "markdown",
   "metadata": {},
   "source": [
    "## Normalization"
   ]
  },
  {
   "cell_type": "code",
   "execution_count": 219,
   "metadata": {},
   "outputs": [
    {
     "data": {
      "text/plain": [
       "Index(['msno', 'song_id', 'source_system_tab', 'source_screen_name',\n",
       "       'source_type', 'target', 'song_length', 'genre_ids', 'artist_name',\n",
       "       'composer', 'lyricist', 'language', 'city', 'bd', 'gender',\n",
       "       'registered_via', 'registration_init_time_year',\n",
       "       'registration_init_time_month', 'registration_init_time_day',\n",
       "       'expiration_date_year', 'expiration_date_month', 'expiration_date_day'],\n",
       "      dtype='object')"
      ]
     },
     "execution_count": 219,
     "metadata": {},
     "output_type": "execute_result"
    }
   ],
   "source": [
    "df.columns"
   ]
  },
  {
   "cell_type": "code",
   "execution_count": 220,
   "metadata": {},
   "outputs": [],
   "source": [
    "li=df.drop('target',axis=1).select_dtypes(exclude='object').columns"
   ]
  },
  {
   "cell_type": "code",
   "execution_count": 221,
   "metadata": {},
   "outputs": [
    {
     "data": {
      "text/plain": [
       "Index(['song_length', 'language', 'city', 'bd', 'registered_via',\n",
       "       'registration_init_time_year', 'registration_init_time_month',\n",
       "       'registration_init_time_day', 'expiration_date_year',\n",
       "       'expiration_date_month', 'expiration_date_day'],\n",
       "      dtype='object')"
      ]
     },
     "execution_count": 221,
     "metadata": {},
     "output_type": "execute_result"
    }
   ],
   "source": [
    "li"
   ]
  },
  {
   "cell_type": "code",
   "execution_count": 222,
   "metadata": {},
   "outputs": [],
   "source": [
    "def NormalizeData(data):\n",
    "    return (data - np.min(data)) / (np.max(data) - np.min(data))"
   ]
  },
  {
   "cell_type": "code",
   "execution_count": 223,
   "metadata": {},
   "outputs": [],
   "source": [
    "for i in li:\n",
    "    df[i]=NormalizeData(df[i])"
   ]
  },
  {
   "cell_type": "code",
   "execution_count": 224,
   "metadata": {},
   "outputs": [
    {
     "data": {
      "image/png": "[encoded data removed]",
      "text/plain": [
       "<Figure size 1440x2160 with 11 Axes>"
      ]
     },
     "metadata": {
      "needs_background": "light"
     },
     "output_type": "display_data"
    }
   ],
   "source": [
    "plt.figure(figsize=(20,30))\n",
    "for i, variable in enumerate(li):\n",
    "  plt.subplot(10,4,i+1)\n",
    "  plt.hist(df[variable])\n",
    "  plt.tight_layout()\n",
    "  plt.title(variable)\n",
    "plt.show()"
   ]
  },
  {
   "cell_type": "code",
   "execution_count": 225,
   "metadata": {},
   "outputs": [
    {
     "data": {
      "text/html": [
       "<div>\n",
       "<style scoped>\n",
       "    .dataframe tbody tr th:only-of-type {\n",
       "        vertical-align: middle;\n",
       "    }\n",
       "\n",
       "    .dataframe tbody tr th {\n",
       "        vertical-align: top;\n",
       "    }\n",
       "\n",
       "    .dataframe thead th {\n",
       "        text-align: right;\n",
       "    }\n",
       "</style>\n",
       "<table border=\"1\" class=\"dataframe\">\n",
       "  <thead>\n",
       "    <tr style=\"text-align: right;\">\n",
       "      <th></th>\n",
       "      <th>msno</th>\n",
       "      <th>song_id</th>\n",
       "      <th>source_system_tab</th>\n",
       "      <th>source_screen_name</th>\n",
       "      <th>source_type</th>\n",
       "      <th>target</th>\n",
       "      <th>song_length</th>\n",
       "      <th>genre_ids</th>\n",
       "      <th>artist_name</th>\n",
       "      <th>composer</th>\n",
       "      <th>...</th>\n",
       "      <th>city</th>\n",
       "      <th>bd</th>\n",
       "      <th>gender</th>\n",
       "      <th>registered_via</th>\n",
       "      <th>registration_init_time_year</th>\n",
       "      <th>registration_init_time_month</th>\n",
       "      <th>registration_init_time_day</th>\n",
       "      <th>expiration_date_year</th>\n",
       "      <th>expiration_date_month</th>\n",
       "      <th>expiration_date_day</th>\n",
       "    </tr>\n",
       "  </thead>\n",
       "  <tbody>\n",
       "    <tr>\n",
       "      <th>1928097</th>\n",
       "      <td>BjZ+qxIhx0nS/OgUrelfGXyFXvwLsLRYQseZ730suv8=</td>\n",
       "      <td>h90KlUZE/mlkkPjhbhz3hXY1zvOhqJXuiKBoFWnTDAo=</td>\n",
       "      <td>my library</td>\n",
       "      <td>Local playlist more</td>\n",
       "      <td>local-library</td>\n",
       "      <td>1</td>\n",
       "      <td>0.081047</td>\n",
       "      <td>465</td>\n",
       "      <td>王詩安 (Diana Wang)</td>\n",
       "      <td>Skot Suyama 陶山</td>\n",
       "      <td>...</td>\n",
       "      <td>0.666667</td>\n",
       "      <td>0.029126</td>\n",
       "      <td>male</td>\n",
       "      <td>0.6</td>\n",
       "      <td>0.538462</td>\n",
       "      <td>0.909091</td>\n",
       "      <td>0.600000</td>\n",
       "      <td>0.8125</td>\n",
       "      <td>0.909091</td>\n",
       "      <td>0.966667</td>\n",
       "    </tr>\n",
       "    <tr>\n",
       "      <th>1034318</th>\n",
       "      <td>gpd5qcKQgYl+EpMfLKTVS/RVjvthxy2aBEkA2dB39VA=</td>\n",
       "      <td>kE+FVLsG03zTzYoGVDqTmVkoSKC9DjJwQr2puF6MkOI=</td>\n",
       "      <td>discover</td>\n",
       "      <td>Online playlist more</td>\n",
       "      <td>online-playlist</td>\n",
       "      <td>1</td>\n",
       "      <td>0.071857</td>\n",
       "      <td>444</td>\n",
       "      <td>BLACKPINK</td>\n",
       "      <td>TEDDY|  FUTURE BOUNCE|  Bekuh BOOM</td>\n",
       "      <td>...</td>\n",
       "      <td>0.142857</td>\n",
       "      <td>0.031068</td>\n",
       "      <td>female</td>\n",
       "      <td>0.6</td>\n",
       "      <td>0.923077</td>\n",
       "      <td>0.818182</td>\n",
       "      <td>0.166667</td>\n",
       "      <td>0.8125</td>\n",
       "      <td>0.818182</td>\n",
       "      <td>0.133333</td>\n",
       "    </tr>\n",
       "    <tr>\n",
       "      <th>5268353</th>\n",
       "      <td>FsnD6eISCRrYBij8+Gb1USi7YFPilM2xP3uhFw/8dWY=</td>\n",
       "      <td>3gH3RVFOcGvtmvybcS4gUgjqXUKnFQfrCVaLaDzd2V4=</td>\n",
       "      <td>my library</td>\n",
       "      <td>Local playlist more</td>\n",
       "      <td>local-library</td>\n",
       "      <td>0</td>\n",
       "      <td>0.083299</td>\n",
       "      <td>465</td>\n",
       "      <td>Eir Aoi (藍井エイル)</td>\n",
       "      <td>Tomoyuki Ogawa</td>\n",
       "      <td>...</td>\n",
       "      <td>0.142857</td>\n",
       "      <td>0.020388</td>\n",
       "      <td>male</td>\n",
       "      <td>0.6</td>\n",
       "      <td>0.461538</td>\n",
       "      <td>0.363636</td>\n",
       "      <td>0.233333</td>\n",
       "      <td>0.8125</td>\n",
       "      <td>0.363636</td>\n",
       "      <td>0.766667</td>\n",
       "    </tr>\n",
       "    <tr>\n",
       "      <th>3140276</th>\n",
       "      <td>00qmlWC3H/cjf2Ig1li5xIO0VNDRgBX0f9ilouDBEZs=</td>\n",
       "      <td>YB1aCMH80wghif+6uAy8CwNu/HdFTtEyJMl93dlBtXQ=</td>\n",
       "      <td>my library</td>\n",
       "      <td>Local playlist more</td>\n",
       "      <td>local-library</td>\n",
       "      <td>0</td>\n",
       "      <td>0.102299</td>\n",
       "      <td>2022</td>\n",
       "      <td>Aerosmith</td>\n",
       "      <td>Diane Warren</td>\n",
       "      <td>...</td>\n",
       "      <td>0.619048</td>\n",
       "      <td>0.020388</td>\n",
       "      <td>male</td>\n",
       "      <td>0.0</td>\n",
       "      <td>0.692308</td>\n",
       "      <td>0.818182</td>\n",
       "      <td>0.500000</td>\n",
       "      <td>0.8125</td>\n",
       "      <td>0.727273</td>\n",
       "      <td>0.333333</td>\n",
       "    </tr>\n",
       "    <tr>\n",
       "      <th>2236366</th>\n",
       "      <td>HvvWzN0yGyMEE6k1LZICIHa+r8FLt+g8MLPG/yahi5o=</td>\n",
       "      <td>N/kQ1h1t7uPOdWYNHcQIddmS3lyK/zvIrhmHyuBf8D4=</td>\n",
       "      <td>my library</td>\n",
       "      <td>Local playlist more</td>\n",
       "      <td>local-library</td>\n",
       "      <td>1</td>\n",
       "      <td>0.098150</td>\n",
       "      <td>465</td>\n",
       "      <td>吳克群 (Kenji Wu)</td>\n",
       "      <td>吳克群</td>\n",
       "      <td>...</td>\n",
       "      <td>0.571429</td>\n",
       "      <td>0.044660</td>\n",
       "      <td>female</td>\n",
       "      <td>0.6</td>\n",
       "      <td>0.153846</td>\n",
       "      <td>0.000000</td>\n",
       "      <td>0.700000</td>\n",
       "      <td>0.8125</td>\n",
       "      <td>0.818182</td>\n",
       "      <td>0.033333</td>\n",
       "    </tr>\n",
       "  </tbody>\n",
       "</table>\n",
       "<p>5 rows × 22 columns</p>\n",
       "</div>"
      ],
      "text/plain": [
       "                                                 msno  \\\n",
       "1928097  BjZ+qxIhx0nS/OgUrelfGXyFXvwLsLRYQseZ730suv8=   \n",
       "1034318  gpd5qcKQgYl+EpMfLKTVS/RVjvthxy2aBEkA2dB39VA=   \n",
       "5268353  FsnD6eISCRrYBij8+Gb1USi7YFPilM2xP3uhFw/8dWY=   \n",
       "3140276  00qmlWC3H/cjf2Ig1li5xIO0VNDRgBX0f9ilouDBEZs=   \n",
       "2236366  HvvWzN0yGyMEE6k1LZICIHa+r8FLt+g8MLPG/yahi5o=   \n",
       "\n",
       "                                              song_id source_system_tab  \\\n",
       "1928097  h90KlUZE/mlkkPjhbhz3hXY1zvOhqJXuiKBoFWnTDAo=        my library   \n",
       "1034318  kE+FVLsG03zTzYoGVDqTmVkoSKC9DjJwQr2puF6MkOI=          discover   \n",
       "5268353  3gH3RVFOcGvtmvybcS4gUgjqXUKnFQfrCVaLaDzd2V4=        my library   \n",
       "3140276  YB1aCMH80wghif+6uAy8CwNu/HdFTtEyJMl93dlBtXQ=        my library   \n",
       "2236366  N/kQ1h1t7uPOdWYNHcQIddmS3lyK/zvIrhmHyuBf8D4=        my library   \n",
       "\n",
       "           source_screen_name      source_type  target  song_length genre_ids  \\\n",
       "1928097   Local playlist more    local-library       1     0.081047       465   \n",
       "1034318  Online playlist more  online-playlist       1     0.071857       444   \n",
       "5268353   Local playlist more    local-library       0     0.083299       465   \n",
       "3140276   Local playlist more    local-library       0     0.102299      2022   \n",
       "2236366   Local playlist more    local-library       1     0.098150       465   \n",
       "\n",
       "              artist_name                            composer  ...      city  \\\n",
       "1928097  王詩安 (Diana Wang)                      Skot Suyama 陶山  ...  0.666667   \n",
       "1034318         BLACKPINK  TEDDY|  FUTURE BOUNCE|  Bekuh BOOM  ...  0.142857   \n",
       "5268353   Eir Aoi (藍井エイル)                      Tomoyuki Ogawa  ...  0.142857   \n",
       "3140276         Aerosmith                        Diane Warren  ...  0.619048   \n",
       "2236366    吳克群 (Kenji Wu)                                 吳克群  ...  0.571429   \n",
       "\n",
       "               bd  gender  registered_via registration_init_time_year  \\\n",
       "1928097  0.029126    male             0.6                    0.538462   \n",
       "1034318  0.031068  female             0.6                    0.923077   \n",
       "5268353  0.020388    male             0.6                    0.461538   \n",
       "3140276  0.020388    male             0.0                    0.692308   \n",
       "2236366  0.044660  female             0.6                    0.153846   \n",
       "\n",
       "         registration_init_time_month  registration_init_time_day  \\\n",
       "1928097                      0.909091                    0.600000   \n",
       "1034318                      0.818182                    0.166667   \n",
       "5268353                      0.363636                    0.233333   \n",
       "3140276                      0.818182                    0.500000   \n",
       "2236366                      0.000000                    0.700000   \n",
       "\n",
       "         expiration_date_year  expiration_date_month  expiration_date_day  \n",
       "1928097                0.8125               0.909091             0.966667  \n",
       "1034318                0.8125               0.818182             0.133333  \n",
       "5268353                0.8125               0.363636             0.766667  \n",
       "3140276                0.8125               0.727273             0.333333  \n",
       "2236366                0.8125               0.818182             0.033333  \n",
       "\n",
       "[5 rows x 22 columns]"
      ]
     },
     "execution_count": 225,
     "metadata": {},
     "output_type": "execute_result"
    }
   ],
   "source": [
    "df.head()"
   ]
  },
  {
   "cell_type": "code",
   "execution_count": 226,
   "metadata": {},
   "outputs": [
    {
     "name": "stdout",
     "output_type": "stream",
     "text": [
      "        source_system_tab    source_screen_name      source_type  song_length  \\\n",
      "1928097        my library   Local playlist more    local-library     0.081047   \n",
      "1034318          discover  Online playlist more  online-playlist     0.071857   \n",
      "5268353        my library   Local playlist more    local-library     0.083299   \n",
      "3140276        my library   Local playlist more    local-library     0.102299   \n",
      "2236366        my library   Local playlist more    local-library     0.098150   \n",
      "...                   ...                   ...              ...          ...   \n",
      "5316156          discover  Online playlist more  online-playlist     0.113479   \n",
      "7155248       listen with   Others profile more      listen-with     0.083152   \n",
      "3311734        my library   Local playlist more    local-library     0.086133   \n",
      "2443655        my library   Local playlist more   local-playlist     0.099997   \n",
      "2781524           explore               Explore            album     0.071839   \n",
      "\n",
      "        genre_ids       artist_name  \\\n",
      "1928097       465  王詩安 (Diana Wang)   \n",
      "1034318       444         BLACKPINK   \n",
      "5268353       465   Eir Aoi (藍井エイル)   \n",
      "3140276      2022         Aerosmith   \n",
      "2236366       465    吳克群 (Kenji Wu)   \n",
      "...           ...               ...   \n",
      "5316156       458    林宥嘉 (Yoga Lin)   \n",
      "7155248       458    周杰倫 (Jay Chou)   \n",
      "3311734      1259            G-Eazy   \n",
      "2443655       465      林俊傑 (JJ Lin)   \n",
      "2781524       465    蔡琴 (Tsai Chin)   \n",
      "\n",
      "                                                  composer  \\\n",
      "1928097                                     Skot Suyama 陶山   \n",
      "1034318                 TEDDY|  FUTURE BOUNCE|  Bekuh BOOM   \n",
      "5268353                                     Tomoyuki Ogawa   \n",
      "3140276                                       Diane Warren   \n",
      "2236366                                                吳克群   \n",
      "...                                                    ...   \n",
      "5316156                                                林宥嘉   \n",
      "7155248                                                周杰倫   \n",
      "3311734  Gerald Gillum| Michael Keenan| Christoph Ander...   \n",
      "2443655                                             JJ Lin   \n",
      "2781524                                      San Lang Yang   \n",
      "\n",
      "                                                  lyricist  language  \\\n",
      "1928097                                     Skot Suyama 陶山  0.883333   \n",
      "1034318                                 TEDDY|  Bekuh BOOM  0.533333   \n",
      "5268353                            Eir Aoi| Tomoyuki Ogawa  0.300000   \n",
      "3140276                                       Diane Warren  0.883333   \n",
      "2236366                                                吳克群  0.066667   \n",
      "...                                                    ...       ...   \n",
      "5316156                                                黃偉文  0.066667   \n",
      "7155248                                                方文山  0.066667   \n",
      "3311734  Gerald Gillum| Michael Keenan| Christoph Ander...  0.883333   \n",
      "2443655                                             Lin Xi  0.066667   \n",
      "2781524                                       Chuan Tz Liu  0.066667   \n",
      "\n",
      "             city        bd  gender  registered_via  \\\n",
      "1928097  0.666667  0.029126    male             0.6   \n",
      "1034318  0.142857  0.031068  female             0.6   \n",
      "5268353  0.142857  0.020388    male             0.6   \n",
      "3140276  0.619048  0.020388    male             0.0   \n",
      "2236366  0.571429  0.044660  female             0.6   \n",
      "...           ...       ...     ...             ...   \n",
      "5316156  1.000000  0.030097  female             0.0   \n",
      "7155248  0.142857  0.033981  female             0.1   \n",
      "3311734  0.571429  0.018447  female             0.6   \n",
      "2443655  0.571429  0.025243  female             0.1   \n",
      "2781524  0.571429  0.056311    male             0.6   \n",
      "\n",
      "         registration_init_time_year  registration_init_time_month  \\\n",
      "1928097                     0.538462                      0.909091   \n",
      "1034318                     0.923077                      0.818182   \n",
      "5268353                     0.461538                      0.363636   \n",
      "3140276                     0.692308                      0.818182   \n",
      "2236366                     0.153846                      0.000000   \n",
      "...                              ...                           ...   \n",
      "5316156                     0.769231                      0.818182   \n",
      "7155248                     0.923077                      0.454545   \n",
      "3311734                     0.846154                      0.090909   \n",
      "2443655                     0.923077                      0.909091   \n",
      "2781524                     0.307692                      0.545455   \n",
      "\n",
      "         registration_init_time_day  expiration_date_year  \\\n",
      "1928097                    0.600000                0.8125   \n",
      "1034318                    0.166667                0.8125   \n",
      "5268353                    0.233333                0.8125   \n",
      "3140276                    0.500000                0.8125   \n",
      "2236366                    0.700000                0.8125   \n",
      "...                             ...                   ...   \n",
      "5316156                    0.066667                0.8125   \n",
      "7155248                    0.333333                0.8750   \n",
      "3311734                    0.300000                0.8125   \n",
      "2443655                    0.100000                0.8125   \n",
      "2781524                    0.266667                0.8125   \n",
      "\n",
      "         expiration_date_month  expiration_date_day  \n",
      "1928097               0.909091             0.966667  \n",
      "1034318               0.818182             0.133333  \n",
      "5268353               0.363636             0.766667  \n",
      "3140276               0.727273             0.333333  \n",
      "2236366               0.818182             0.033333  \n",
      "...                        ...                  ...  \n",
      "5316156               0.545455             0.466667  \n",
      "7155248               0.090909             0.033333  \n",
      "3311734               0.545455             0.000000  \n",
      "2443655               0.727273             0.300000  \n",
      "2781524               0.727273             0.666667  \n",
      "\n",
      "[50000 rows x 19 columns]\n",
      "         target\n",
      "1928097       1\n",
      "1034318       1\n",
      "5268353       0\n",
      "3140276       0\n",
      "2236366       1\n",
      "...         ...\n",
      "5316156       1\n",
      "7155248       0\n",
      "3311734       1\n",
      "2443655       0\n",
      "2781524       0\n",
      "\n",
      "[50000 rows x 1 columns]\n"
     ]
    }
   ],
   "source": [
    "x = df.drop(['msno','song_id','target'],axis = 1)\n",
    "y = df[['target']]\n",
    "print(x)\n",
    "print(y)"
   ]
  },
  {
   "cell_type": "code",
   "execution_count": 227,
   "metadata": {},
   "outputs": [
    {
     "name": "stdout",
     "output_type": "stream",
     "text": [
      "(50000, 19)\n",
      "(50000, 1)\n"
     ]
    }
   ],
   "source": [
    "print(x.shape)\n",
    "print(y.shape)"
   ]
  },
  {
   "cell_type": "markdown",
   "metadata": {},
   "source": [
    "**Creating dummy variables**\n",
    "\n",
    "It is created to convert categorial data to numeric"
   ]
  },
  {
   "cell_type": "code",
   "execution_count": 228,
   "metadata": {},
   "outputs": [
    {
     "data": {
      "text/plain": [
       "Index(['source_system_tab', 'source_screen_name', 'source_type', 'genre_ids',\n",
       "       'artist_name', 'composer', 'lyricist', 'gender'],\n",
       "      dtype='object')"
      ]
     },
     "execution_count": 228,
     "metadata": {},
     "output_type": "execute_result"
    }
   ],
   "source": [
    "Categorical_list=df.drop(['msno','song_id','target'],axis = 1).select_dtypes(include='object').columns\n",
    "Categorical_list"
   ]
  },
  {
   "cell_type": "code",
   "execution_count": 229,
   "metadata": {},
   "outputs": [],
   "source": [
    "#x=pd.get_dummies(x,Categorical_list,drop_first=True)"
   ]
  },
  {
   "cell_type": "code",
   "execution_count": 230,
   "metadata": {},
   "outputs": [],
   "source": [
    "from sklearn import preprocessing\n",
    " \n",
    "# label_encoder object knows how to understand word labels.\n",
    "label_encoder = preprocessing.LabelEncoder()\n",
    " \n",
    "# Encode labels in column 'species'.\n",
    "for i in Categorical_list:\n",
    "    x[i]= label_encoder.fit_transform(x[i])"
   ]
  },
  {
   "cell_type": "code",
   "execution_count": 231,
   "metadata": {},
   "outputs": [],
   "source": [
    "for i in Categorical_list:\n",
    "    x[i]=NormalizeData(x[i])"
   ]
  },
  {
   "cell_type": "code",
   "execution_count": 232,
   "metadata": {},
   "outputs": [
    {
     "data": {
      "text/html": [
       "<div>\n",
       "<style scoped>\n",
       "    .dataframe tbody tr th:only-of-type {\n",
       "        vertical-align: middle;\n",
       "    }\n",
       "\n",
       "    .dataframe tbody tr th {\n",
       "        vertical-align: top;\n",
       "    }\n",
       "\n",
       "    .dataframe thead th {\n",
       "        text-align: right;\n",
       "    }\n",
       "</style>\n",
       "<table border=\"1\" class=\"dataframe\">\n",
       "  <thead>\n",
       "    <tr style=\"text-align: right;\">\n",
       "      <th></th>\n",
       "      <th>source_system_tab</th>\n",
       "      <th>source_screen_name</th>\n",
       "      <th>source_type</th>\n",
       "      <th>song_length</th>\n",
       "      <th>genre_ids</th>\n",
       "      <th>artist_name</th>\n",
       "      <th>composer</th>\n",
       "      <th>lyricist</th>\n",
       "      <th>language</th>\n",
       "      <th>city</th>\n",
       "      <th>bd</th>\n",
       "      <th>gender</th>\n",
       "      <th>registered_via</th>\n",
       "      <th>registration_init_time_year</th>\n",
       "      <th>registration_init_time_month</th>\n",
       "      <th>registration_init_time_day</th>\n",
       "      <th>expiration_date_year</th>\n",
       "      <th>expiration_date_month</th>\n",
       "      <th>expiration_date_day</th>\n",
       "    </tr>\n",
       "  </thead>\n",
       "  <tbody>\n",
       "    <tr>\n",
       "      <th>1928097</th>\n",
       "      <td>0.428571</td>\n",
       "      <td>0.411765</td>\n",
       "      <td>0.3</td>\n",
       "      <td>0.081047</td>\n",
       "      <td>0.684211</td>\n",
       "      <td>0.797672</td>\n",
       "      <td>0.509847</td>\n",
       "      <td>0.461808</td>\n",
       "      <td>0.883333</td>\n",
       "      <td>0.666667</td>\n",
       "      <td>0.029126</td>\n",
       "      <td>1.0</td>\n",
       "      <td>0.6</td>\n",
       "      <td>0.538462</td>\n",
       "      <td>0.909091</td>\n",
       "      <td>0.600000</td>\n",
       "      <td>0.8125</td>\n",
       "      <td>0.909091</td>\n",
       "      <td>0.966667</td>\n",
       "    </tr>\n",
       "    <tr>\n",
       "      <th>1034318</th>\n",
       "      <td>0.000000</td>\n",
       "      <td>0.588235</td>\n",
       "      <td>0.5</td>\n",
       "      <td>0.071857</td>\n",
       "      <td>0.596491</td>\n",
       "      <td>0.053392</td>\n",
       "      <td>0.528014</td>\n",
       "      <td>0.476517</td>\n",
       "      <td>0.533333</td>\n",
       "      <td>0.142857</td>\n",
       "      <td>0.031068</td>\n",
       "      <td>0.0</td>\n",
       "      <td>0.6</td>\n",
       "      <td>0.923077</td>\n",
       "      <td>0.818182</td>\n",
       "      <td>0.166667</td>\n",
       "      <td>0.8125</td>\n",
       "      <td>0.818182</td>\n",
       "      <td>0.133333</td>\n",
       "    </tr>\n",
       "    <tr>\n",
       "      <th>5268353</th>\n",
       "      <td>0.428571</td>\n",
       "      <td>0.411765</td>\n",
       "      <td>0.3</td>\n",
       "      <td>0.083299</td>\n",
       "      <td>0.684211</td>\n",
       "      <td>0.137696</td>\n",
       "      <td>0.551273</td>\n",
       "      <td>0.128197</td>\n",
       "      <td>0.300000</td>\n",
       "      <td>0.142857</td>\n",
       "      <td>0.020388</td>\n",
       "      <td>1.0</td>\n",
       "      <td>0.6</td>\n",
       "      <td>0.461538</td>\n",
       "      <td>0.363636</td>\n",
       "      <td>0.233333</td>\n",
       "      <td>0.8125</td>\n",
       "      <td>0.363636</td>\n",
       "      <td>0.766667</td>\n",
       "    </tr>\n",
       "    <tr>\n",
       "      <th>3140276</th>\n",
       "      <td>0.428571</td>\n",
       "      <td>0.411765</td>\n",
       "      <td>0.3</td>\n",
       "      <td>0.102299</td>\n",
       "      <td>0.289474</td>\n",
       "      <td>0.026897</td>\n",
       "      <td>0.140238</td>\n",
       "      <td>0.118001</td>\n",
       "      <td>0.883333</td>\n",
       "      <td>0.619048</td>\n",
       "      <td>0.020388</td>\n",
       "      <td>1.0</td>\n",
       "      <td>0.0</td>\n",
       "      <td>0.692308</td>\n",
       "      <td>0.818182</td>\n",
       "      <td>0.500000</td>\n",
       "      <td>0.8125</td>\n",
       "      <td>0.727273</td>\n",
       "      <td>0.333333</td>\n",
       "    </tr>\n",
       "    <tr>\n",
       "      <th>2236366</th>\n",
       "      <td>0.428571</td>\n",
       "      <td>0.411765</td>\n",
       "      <td>0.3</td>\n",
       "      <td>0.098150</td>\n",
       "      <td>0.684211</td>\n",
       "      <td>0.575271</td>\n",
       "      <td>0.667572</td>\n",
       "      <td>0.613405</td>\n",
       "      <td>0.066667</td>\n",
       "      <td>0.571429</td>\n",
       "      <td>0.044660</td>\n",
       "      <td>0.0</td>\n",
       "      <td>0.6</td>\n",
       "      <td>0.153846</td>\n",
       "      <td>0.000000</td>\n",
       "      <td>0.700000</td>\n",
       "      <td>0.8125</td>\n",
       "      <td>0.818182</td>\n",
       "      <td>0.033333</td>\n",
       "    </tr>\n",
       "  </tbody>\n",
       "</table>\n",
       "</div>"
      ],
      "text/plain": [
       "         source_system_tab  source_screen_name  source_type  song_length  \\\n",
       "1928097           0.428571            0.411765          0.3     0.081047   \n",
       "1034318           0.000000            0.588235          0.5     0.071857   \n",
       "5268353           0.428571            0.411765          0.3     0.083299   \n",
       "3140276           0.428571            0.411765          0.3     0.102299   \n",
       "2236366           0.428571            0.411765          0.3     0.098150   \n",
       "\n",
       "         genre_ids  artist_name  composer  lyricist  language      city  \\\n",
       "1928097   0.684211     0.797672  0.509847  0.461808  0.883333  0.666667   \n",
       "1034318   0.596491     0.053392  0.528014  0.476517  0.533333  0.142857   \n",
       "5268353   0.684211     0.137696  0.551273  0.128197  0.300000  0.142857   \n",
       "3140276   0.289474     0.026897  0.140238  0.118001  0.883333  0.619048   \n",
       "2236366   0.684211     0.575271  0.667572  0.613405  0.066667  0.571429   \n",
       "\n",
       "               bd  gender  registered_via  registration_init_time_year  \\\n",
       "1928097  0.029126     1.0             0.6                     0.538462   \n",
       "1034318  0.031068     0.0             0.6                     0.923077   \n",
       "5268353  0.020388     1.0             0.6                     0.461538   \n",
       "3140276  0.020388     1.0             0.0                     0.692308   \n",
       "2236366  0.044660     0.0             0.6                     0.153846   \n",
       "\n",
       "         registration_init_time_month  registration_init_time_day  \\\n",
       "1928097                      0.909091                    0.600000   \n",
       "1034318                      0.818182                    0.166667   \n",
       "5268353                      0.363636                    0.233333   \n",
       "3140276                      0.818182                    0.500000   \n",
       "2236366                      0.000000                    0.700000   \n",
       "\n",
       "         expiration_date_year  expiration_date_month  expiration_date_day  \n",
       "1928097                0.8125               0.909091             0.966667  \n",
       "1034318                0.8125               0.818182             0.133333  \n",
       "5268353                0.8125               0.363636             0.766667  \n",
       "3140276                0.8125               0.727273             0.333333  \n",
       "2236366                0.8125               0.818182             0.033333  "
      ]
     },
     "execution_count": 232,
     "metadata": {},
     "output_type": "execute_result"
    }
   ],
   "source": [
    "x.head()"
   ]
  },
  {
   "cell_type": "code",
   "execution_count": 233,
   "metadata": {},
   "outputs": [],
   "source": [
    "## Now spliting the data in train and test\n",
    "from sklearn.model_selection import train_test_split\n",
    "x_train,x_test,y_train,y_test=train_test_split(x,y ,test_size = 0.3, random_state = 50)"
   ]
  },
  {
   "cell_type": "code",
   "execution_count": 234,
   "metadata": {},
   "outputs": [
    {
     "name": "stdout",
     "output_type": "stream",
     "text": [
      "(35000, 19)\n",
      "(15000, 19)\n",
      "(35000, 1)\n",
      "(15000, 1)\n"
     ]
    }
   ],
   "source": [
    "print(x_train.shape)\n",
    "print(x_test.shape)\n",
    "print(y_train.shape)\n",
    "print(y_test.shape)"
   ]
  },
  {
   "cell_type": "markdown",
   "metadata": {},
   "source": [
    "## Logistic Regression"
   ]
  },
  {
   "cell_type": "code",
   "execution_count": 235,
   "metadata": {},
   "outputs": [
    {
     "name": "stderr",
     "output_type": "stream",
     "text": [
      "C:\\Users\\Sanskruti Ghadipatil\\anaconda3\\Anaconda\\lib\\site-packages\\sklearn\\utils\\validation.py:993: DataConversionWarning: A column-vector y was passed when a 1d array was expected. Please change the shape of y to (n_samples, ), for example using ravel().\n",
      "  y = column_or_1d(y, warn=True)\n"
     ]
    }
   ],
   "source": [
    "from sklearn.linear_model import LogisticRegression \n",
    "logreg = LogisticRegression()\n",
    "logreg.fit(x_train,y_train)\n",
    "y_pred= logreg.predict(x_test) \n",
    "y_pred_train=logreg.predict(x_train) "
   ]
  },
  {
   "cell_type": "code",
   "execution_count": 236,
   "metadata": {},
   "outputs": [
    {
     "name": "stdout",
     "output_type": "stream",
     "text": [
      "[[1965 4875]\n",
      " [1462 6698]]\n"
     ]
    }
   ],
   "source": [
    "from sklearn.metrics import confusion_matrix  \n",
    "cm= confusion_matrix(y_test,y_pred) \n",
    "print(cm)"
   ]
  },
  {
   "cell_type": "code",
   "execution_count": 237,
   "metadata": {},
   "outputs": [],
   "source": [
    "from sklearn.metrics import (classification_report,confusion_matrix,accuracy_score,roc_auc_score,roc_curve,recall_score,\n",
    "                              precision_score,f1_score)"
   ]
  },
  {
   "cell_type": "code",
   "execution_count": 238,
   "metadata": {},
   "outputs": [
    {
     "name": "stdout",
     "output_type": "stream",
     "text": [
      "accuracy train -> 0.575\n",
      "recall train -> 0.8256467345207803\n",
      "precision train -> 0.5734324951216818\n",
      "F1 Score train -> 0.6768060836501901\n",
      "accuracy test -> 0.5775333333333333\n",
      "recall test -> 0.8208333333333333\n",
      "precision test -> 0.5787609090123563\n",
      "F1 score test -> 0.678862818628693\n"
     ]
    }
   ],
   "source": [
    "print('accuracy train ->',accuracy_score(y_train,y_pred_train))\n",
    "print('recall train ->',recall_score(y_train,y_pred_train))\n",
    "print('precision train ->',precision_score(y_train,y_pred_train))\n",
    "print('F1 Score train ->',f1_score(y_train,y_pred_train))\n",
    "print('accuracy test ->',accuracy_score(y_test,y_pred))\n",
    "print('recall test ->',recall_score(y_test,y_pred))\n",
    "print('precision test ->',precision_score(y_test,y_pred))\n",
    "print('F1 score test ->',f1_score(y_test,y_pred))"
   ]
  },
  {
   "cell_type": "code",
   "execution_count": 239,
   "metadata": {},
   "outputs": [],
   "source": [
    "from sklearn.ensemble import BaggingClassifier\n"
   ]
  },
  {
   "cell_type": "markdown",
   "metadata": {},
   "source": [
    "## KNN"
   ]
  },
  {
   "cell_type": "code",
   "execution_count": 240,
   "metadata": {
    "scrolled": true
   },
   "outputs": [
    {
     "name": "stderr",
     "output_type": "stream",
     "text": [
      "C:\\Users\\Sanskruti Ghadipatil\\anaconda3\\Anaconda\\lib\\site-packages\\sklearn\\neighbors\\_classification.py:198: DataConversionWarning: A column-vector y was passed when a 1d array was expected. Please change the shape of y to (n_samples,), for example using ravel().\n",
      "  return self._fit(X, y)\n"
     ]
    }
   ],
   "source": [
    "from sklearn.neighbors import KNeighborsClassifier  \n",
    "classifier= KNeighborsClassifier(n_neighbors=5, metric='minkowski', p=2 )  \n",
    "classifier.fit(x_train, y_train)  \n",
    "y_pred=classifier.predict(x_test) \n",
    "y_pred_train=classifier.predict(x_train) "
   ]
  },
  {
   "cell_type": "code",
   "execution_count": 241,
   "metadata": {},
   "outputs": [
    {
     "name": "stdout",
     "output_type": "stream",
     "text": [
      "[[3293 3547]\n",
      " [2738 5422]]\n"
     ]
    }
   ],
   "source": [
    "from sklearn.metrics import confusion_matrix  \n",
    "cm= confusion_matrix(y_test,y_pred) \n",
    "print(cm)"
   ]
  },
  {
   "cell_type": "code",
   "execution_count": 242,
   "metadata": {},
   "outputs": [
    {
     "name": "stdout",
     "output_type": "stream",
     "text": [
      "accuracy train -> 0.7203142857142857\n",
      "recall train -> 0.7889100932994063\n",
      "precision train -> 0.719319445115762\n",
      "F1 Score train -> 0.7525092913306196\n",
      "accuracy test -> 0.581\n",
      "recall test -> 0.6644607843137255\n",
      "precision test -> 0.6045267030884156\n",
      "F1 score test -> 0.6330784050440773\n"
     ]
    }
   ],
   "source": [
    "print('accuracy train ->',accuracy_score(y_train,y_pred_train))\n",
    "print('recall train ->',recall_score(y_train,y_pred_train))\n",
    "print('precision train ->',precision_score(y_train,y_pred_train))\n",
    "print('F1 Score train ->',f1_score(y_train,y_pred_train))\n",
    "print('accuracy test ->',accuracy_score(y_test,y_pred))\n",
    "print('recall test ->',recall_score(y_test,y_pred))\n",
    "print('precision test ->',precision_score(y_test,y_pred))\n",
    "print('F1 score test ->',f1_score(y_test,y_pred))"
   ]
  },
  {
   "cell_type": "code",
   "execution_count": null,
   "metadata": {},
   "outputs": [],
   "source": []
  },
  {
   "cell_type": "code",
   "execution_count": null,
   "metadata": {},
   "outputs": [],
   "source": []
  }
 ],
 "metadata": {
  "kernelspec": {
   "display_name": "Python 3",
   "language": "python",
   "name": "python3"
  },
  "language_info": {
   "codemirror_mode": {
    "name": "ipython",
    "version": 3
   },
   "file_extension": ".py",
   "mimetype": "text/x-python",
   "name": "python",
   "nbconvert_exporter": "python",
   "pygments_lexer": "ipython3",
   "version": "3.8.3"
  }
 },
 "nbformat": 4,
 "nbformat_minor": 4
}
