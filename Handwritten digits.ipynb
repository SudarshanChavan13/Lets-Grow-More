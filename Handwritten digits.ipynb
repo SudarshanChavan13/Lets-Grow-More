{
 "cells": [
  {
   "cell_type": "code",
   "execution_count": 1,
   "metadata": {},
   "outputs": [],
   "source": [
    "import numpy as np\n",
    "import matplotlib.pyplot as plt"
   ]
  },
  {
   "cell_type": "code",
   "execution_count": 2,
   "metadata": {},
   "outputs": [],
   "source": [
    "from keras.datasets import mnist"
   ]
  },
  {
   "cell_type": "code",
   "execution_count": 3,
   "metadata": {},
   "outputs": [
    {
     "name": "stdout",
     "output_type": "stream",
     "text": [
      "(60000, 28, 28) (60000,)\n",
      "(10000, 28, 28) (10000,)\n"
     ]
    }
   ],
   "source": [
    "(X_train,y_train),(X_test,y_test)=mnist.load_data()\n",
    "\n",
    "print(X_train.shape,y_train.shape)\n",
    "print(X_test.shape,y_test.shape)"
   ]
  },
  {
   "cell_type": "code",
   "execution_count": 4,
   "metadata": {},
   "outputs": [
    {
     "data": {
      "text/plain": [
       "array([0, 1, 2, 3, 4, 5, 6, 7, 8, 9], dtype=uint8)"
      ]
     },
     "execution_count": 4,
     "metadata": {},
     "output_type": "execute_result"
    }
   ],
   "source": [
    "np.unique(y_train)"
   ]
  },
  {
   "cell_type": "code",
   "execution_count": 5,
   "metadata": {},
   "outputs": [],
   "source": [
    "from keras.utils import np_utils \n",
    "\n",
    "Y_train=np_utils.to_categorical(y_train)      # 1-hot encoding\n",
    "Y_test=np_utils.to_categorical(y_test) "
   ]
  },
  {
   "cell_type": "code",
   "execution_count": 6,
   "metadata": {},
   "outputs": [
    {
     "name": "stdout",
     "output_type": "stream",
     "text": [
      "(60000, 10)\n",
      "(10000, 10)\n"
     ]
    }
   ],
   "source": [
    "print(Y_train.shape)\n",
    "print(Y_test.shape)"
   ]
  },
  {
   "cell_type": "code",
   "execution_count": 7,
   "metadata": {},
   "outputs": [
    {
     "data": {
      "image/png": "[encoded data removed]",
      "text/plain": [
       "<Figure size 432x288 with 1 Axes>"
      ]
     },
     "metadata": {
      "needs_background": "light"
     },
     "output_type": "display_data"
    }
   ],
   "source": [
    "plt.imshow(X_train[0], cmap='gray')\n",
    "plt.show()"
   ]
  },
  {
   "cell_type": "markdown",
   "metadata": {},
   "source": [
    "Here.. we are working with black and white image..so channel ie dept is 1.... so reshape this to dimention 28,28,1 to denote as black and white image<br>\n",
    "if it is colored image channel will be 3... R G B... here dimenstion will be 28 28 3\n"
   ]
  },
  {
   "cell_type": "code",
   "execution_count": 8,
   "metadata": {},
   "outputs": [
    {
     "name": "stdout",
     "output_type": "stream",
     "text": [
      "(60000, 28, 28, 1)\n",
      "(10000, 28, 28, 1)\n"
     ]
    }
   ],
   "source": [
    "x_train=X_train.reshape(-1,28,28,1)\n",
    "x_test=X_test.reshape(-1,28,28,1)\n",
    "\n",
    "print(x_train.shape)\n",
    "print(x_test.shape)"
   ]
  },
  {
   "cell_type": "code",
   "execution_count": 9,
   "metadata": {},
   "outputs": [
    {
     "name": "stdout",
     "output_type": "stream",
     "text": [
      "(3600, 28, 28, 1) (3600, 10)\n",
      "(900, 28, 28, 1) (900, 10)\n"
     ]
    }
   ],
   "source": [
    "x_train=x_train[:3600]\n",
    "x_test=x_test[:900]\n",
    "\n",
    "Y_train=Y_train[:3600]\n",
    "Y_test=Y_test[:900]\n",
    "\n",
    "print(x_train.shape,Y_train.shape)\n",
    "print(x_test.shape,Y_test.shape)"
   ]
  },
  {
   "cell_type": "code",
   "execution_count": 10,
   "metadata": {},
   "outputs": [],
   "source": [
    "from keras.layers import Dense, Activation, Flatten, Conv2D, MaxPooling2D, Dropout       \n",
    "#Dense layer are fully connected layers where each nueron receives input from all neurons in previous layers\n",
    "#Activation function applied on dense layer to activate non linear function\n",
    "#Flatten is used to flatten matrix into an 1d array\n",
    "#conv2D-To apply Convolutional layer\n",
    "#MaxPool2D- to reduce size of image if no of weights increase too much\n",
    "#Dropout-Used for reguralization of data\n",
    "from keras.models import Sequential\n",
    "#Sequential is simple layer where previous layer is fed into next layer |->|->|->|....."
   ]
  },
  {
   "cell_type": "code",
   "execution_count": 11,
   "metadata": {},
   "outputs": [
    {
     "name": "stdout",
     "output_type": "stream",
     "text": [
      "Model: \"sequential\"\n",
      "_________________________________________________________________\n",
      "Layer (type)                 Output Shape              Param #   \n",
      "=================================================================\n",
      "conv2d (Conv2D)              (None, 26, 26, 32)        320       \n",
      "_________________________________________________________________\n",
      "activation (Activation)      (None, 26, 26, 32)        0         \n",
      "_________________________________________________________________\n",
      "conv2d_1 (Conv2D)            (None, 24, 24, 64)        18496     \n",
      "_________________________________________________________________\n",
      "activation_1 (Activation)    (None, 24, 24, 64)        0         \n",
      "_________________________________________________________________\n",
      "max_pooling2d (MaxPooling2D) (None, 12, 12, 64)        0         \n",
      "_________________________________________________________________\n",
      "conv2d_2 (Conv2D)            (None, 10, 10, 16)        9232      \n",
      "_________________________________________________________________\n",
      "activation_2 (Activation)    (None, 10, 10, 16)        0         \n",
      "_________________________________________________________________\n",
      "flatten (Flatten)            (None, 1600)              0         \n",
      "_________________________________________________________________\n",
      "dropout (Dropout)            (None, 1600)              0         \n",
      "_________________________________________________________________\n",
      "dense (Dense)                (None, 10)                16010     \n",
      "_________________________________________________________________\n",
      "activation_3 (Activation)    (None, 10)                0         \n",
      "=================================================================\n",
      "Total params: 44,058\n",
      "Trainable params: 44,058\n",
      "Non-trainable params: 0\n",
      "_________________________________________________________________\n"
     ]
    }
   ],
   "source": [
    "model=Sequential()\n",
    "\n",
    "#Dimentions- (28,28,1)\n",
    "model.add(Conv2D(32, (3, 3),input_shape=(28,28,1)))   #32 filters, each filter 3x3\n",
    "model.add(Activation('relu'))\n",
    "#After conv layer- (26,26,32)\n",
    "\n",
    "model.add(Conv2D(64, (3, 3)) )  #64 filters, each filter 3x3\n",
    "model.add(Activation('relu'))\n",
    "#After 2nd conv layer- (24,24,64)\n",
    "\n",
    "model.add(MaxPooling2D(pool_size=(2,2)))\n",
    "#reduces dimensions of image- (12,12,64)\n",
    "#4 pixelels merged into 1, channels remains the same\n",
    "\n",
    "model.add(Conv2D(16, (3, 3)) )  #16 filters, each filter 3x3\n",
    "model.add(Activation('relu'))\n",
    "#After 3nd conv layer- (10,10,16)\n",
    "\n",
    "model.add(Flatten())   #After flattening.. total features will be 28*28=784\n",
    "# (1600, )\n",
    "\n",
    "model.add(Dropout(0.25))  #25% of random weights will be reduced to zero\n",
    "#prevents over fitting\n",
    "\n",
    "# model.add(Dense(100))\n",
    "# model.add(Activation('relu'))\n",
    "                                 #--> hidden layers optional\n",
    "# model.add(Dense(100))         \n",
    "# model.add(Activation('relu'))\n",
    "\n",
    "model.add(Dense(10))\n",
    "model.add(Activation('softmax'))\n",
    "\n",
    "model.summary()"
   ]
  },
  {
   "cell_type": "markdown",
   "metadata": {},
   "source": [
    "1st conv layer- 3x3=9 weights+1 intercept term, and 32 filters..so 10*32= 320 params  <br>\n",
    "2nd conv layer- (3x3=9 weights)*32channels for each filter=288*64 filters+64intercepts=18496  <br>\n",
    "3rd conv layer- same calc as 2nd  <br>\n",
    "Dense layer- 1600 features+1 intercept*10 neurons=16010"
   ]
  },
  {
   "cell_type": "code",
   "execution_count": 12,
   "metadata": {},
   "outputs": [],
   "source": [
    "model.compile(optimizer='adam',\n",
    "             loss='categorical_crossentropy',\n",
    "             metrics=['accuracy'])"
   ]
  },
  {
   "cell_type": "code",
   "execution_count": 13,
   "metadata": {},
   "outputs": [
    {
     "name": "stdout",
     "output_type": "stream",
     "text": [
      "Epoch 1/12\n",
      "225/225 [==============================] - 9s 37ms/step - loss: 2.1387 - accuracy: 0.4911 - val_loss: 0.3098 - val_accuracy: 0.8967\n",
      "Epoch 2/12\n",
      "225/225 [==============================] - 7s 32ms/step - loss: 0.2979 - accuracy: 0.9089 - val_loss: 0.2053 - val_accuracy: 0.9300\n",
      "Epoch 3/12\n",
      "225/225 [==============================] - 7s 32ms/step - loss: 0.1649 - accuracy: 0.9433 - val_loss: 0.2292 - val_accuracy: 0.9278\n",
      "Epoch 4/12\n",
      "225/225 [==============================] - 7s 32ms/step - loss: 0.1080 - accuracy: 0.9684 - val_loss: 0.1389 - val_accuracy: 0.9544\n",
      "Epoch 5/12\n",
      "225/225 [==============================] - 7s 32ms/step - loss: 0.0664 - accuracy: 0.9793 - val_loss: 0.1876 - val_accuracy: 0.9433\n",
      "Epoch 6/12\n",
      "225/225 [==============================] - 8s 33ms/step - loss: 0.0763 - accuracy: 0.9765 - val_loss: 0.1477 - val_accuracy: 0.9522\n",
      "Epoch 7/12\n",
      "225/225 [==============================] - 7s 32ms/step - loss: 0.0523 - accuracy: 0.9801 - val_loss: 0.1206 - val_accuracy: 0.9611\n",
      "Epoch 8/12\n",
      "225/225 [==============================] - 7s 32ms/step - loss: 0.0301 - accuracy: 0.9897 - val_loss: 0.1671 - val_accuracy: 0.9500\n",
      "Epoch 9/12\n",
      "225/225 [==============================] - 7s 32ms/step - loss: 0.0309 - accuracy: 0.9888 - val_loss: 0.2522 - val_accuracy: 0.9289\n",
      "Epoch 10/12\n",
      "225/225 [==============================] - 7s 32ms/step - loss: 0.0528 - accuracy: 0.9809 - val_loss: 0.1622 - val_accuracy: 0.9611\n",
      "Epoch 11/12\n",
      "225/225 [==============================] - 7s 32ms/step - loss: 0.0480 - accuracy: 0.9839 - val_loss: 0.1546 - val_accuracy: 0.9644\n",
      "Epoch 12/12\n",
      "225/225 [==============================] - 7s 31ms/step - loss: 0.0324 - accuracy: 0.9895 - val_loss: 0.2148 - val_accuracy: 0.9578\n"
     ]
    },
    {
     "data": {
      "text/plain": [
       "<tensorflow.python.keras.callbacks.History at 0x1b75603c8b0>"
      ]
     },
     "execution_count": 13,
     "metadata": {},
     "output_type": "execute_result"
    }
   ],
   "source": [
    "model.fit(x_train,Y_train, \n",
    "         batch_size=16,    #batch_size-how many training exaples to use before updating weights\n",
    "         #nb_epoch=20,\n",
    "         epochs=12,\n",
    "         verbose=1,      #verbose- determines how detailed the output will be\n",
    "         validation_data=(x_test,Y_test))"
   ]
  },
  {
   "cell_type": "code",
   "execution_count": null,
   "metadata": {},
   "outputs": [],
   "source": []
  }
 ],
 "metadata": {
  "kernelspec": {
   "display_name": "Python 3",
   "language": "python",
   "name": "python3"
  },
  "language_info": {
   "codemirror_mode": {
    "name": "ipython",
    "version": 3
   },
   "file_extension": ".py",
   "mimetype": "text/x-python",
   "name": "python",
   "nbconvert_exporter": "python",
   "pygments_lexer": "ipython3",
   "version": "3.8.3"
  }
 },
 "nbformat": 4,
 "nbformat_minor": 4
}
